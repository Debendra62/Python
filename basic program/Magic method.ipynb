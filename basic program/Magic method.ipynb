{
 "cells": [
  {
   "cell_type": "markdown",
   "id": "82fe629e",
   "metadata": {},
   "source": [
    "# Magic Method / Dunder Method"
   ]
  },
  {
   "cell_type": "code",
   "execution_count": 32,
   "id": "c785af5b",
   "metadata": {},
   "outputs": [],
   "source": [
    "class Vector:\n",
    "    def __init__(self,a,b):\n",
    "        self.a=a\n",
    "        self.b=b\n",
    "        \n",
    "    def __str__(self):\n",
    "        return (f\"({self.a},{self.b})\")\n",
    "    \n",
    "        \n",
    "        "
   ]
  },
  {
   "cell_type": "code",
   "execution_count": 33,
   "id": "5cf9f01a",
   "metadata": {},
   "outputs": [],
   "source": [
    "v1=Vector(2,3)\n",
    "v2=Vector(6,8)\n"
   ]
  },
  {
   "cell_type": "code",
   "execution_count": 34,
   "id": "f7700892",
   "metadata": {},
   "outputs": [
    {
     "name": "stdout",
     "output_type": "stream",
     "text": [
      "(2,3)\n"
     ]
    }
   ],
   "source": [
    "print(v1)"
   ]
  },
  {
   "cell_type": "code",
   "execution_count": 31,
   "id": "0f6aff42",
   "metadata": {},
   "outputs": [
    {
     "data": {
      "text/plain": [
       "['__class__',\n",
       " '__delattr__',\n",
       " '__dict__',\n",
       " '__dir__',\n",
       " '__doc__',\n",
       " '__eq__',\n",
       " '__format__',\n",
       " '__ge__',\n",
       " '__getattribute__',\n",
       " '__gt__',\n",
       " '__hash__',\n",
       " '__init__',\n",
       " '__init_subclass__',\n",
       " '__le__',\n",
       " '__lt__',\n",
       " '__module__',\n",
       " '__ne__',\n",
       " '__new__',\n",
       " '__reduce__',\n",
       " '__reduce_ex__',\n",
       " '__repr__',\n",
       " '__setattr__',\n",
       " '__sizeof__',\n",
       " '__str__',\n",
       " '__subclasshook__',\n",
       " '__weakref__',\n",
       " 'a',\n",
       " 'b']"
      ]
     },
     "execution_count": 31,
     "metadata": {},
     "output_type": "execute_result"
    }
   ],
   "source": [
    "dir(v1)"
   ]
  },
  {
   "cell_type": "markdown",
   "id": "f8d3c1e6",
   "metadata": {},
   "source": [
    "## Add to vectors"
   ]
  },
  {
   "cell_type": "code",
   "execution_count": 46,
   "id": "e50f7609",
   "metadata": {},
   "outputs": [],
   "source": [
    "class Vector:\n",
    "    def __init__(self,a,b):\n",
    "        self.a=a\n",
    "        self.b=b\n",
    "        \n",
    "    def __add__(self,other):\n",
    "        a=self.a+other.a\n",
    "        b=self.b+other.b\n",
    "        return (a,b)\n",
    "    "
   ]
  },
  {
   "cell_type": "code",
   "execution_count": 47,
   "id": "21209856",
   "metadata": {},
   "outputs": [],
   "source": [
    "v1=Vector(2,3)\n",
    "v2=Vector(6,8)\n"
   ]
  },
  {
   "cell_type": "code",
   "execution_count": 48,
   "id": "473a1767",
   "metadata": {},
   "outputs": [
    {
     "data": {
      "text/plain": [
       "(8, 11)"
      ]
     },
     "execution_count": 48,
     "metadata": {},
     "output_type": "execute_result"
    }
   ],
   "source": [
    "v1+v2"
   ]
  },
  {
   "cell_type": "code",
   "execution_count": null,
   "id": "468259c8",
   "metadata": {},
   "outputs": [],
   "source": [
    "# "
   ]
  },
  {
   "cell_type": "code",
   "execution_count": 89,
   "id": "b3460f2d",
   "metadata": {},
   "outputs": [],
   "source": [
    "class Distance:\n",
    "    def __init__(self,ft,inch):\n",
    "        self.ft=ft\n",
    "        self.inch=inch\n",
    "        \n",
    "    def __add__(self,other):\n",
    "        ft=self.ft+other.ft\n",
    "        inch=self.inch+other.inch\n",
    "        while inch>=12:\n",
    "            ft=ft+1\n",
    "            inch=inch-12\n",
    "        return (ft,inch)\n",
    "    \n",
    "    \n",
    "    "
   ]
  },
  {
   "cell_type": "code",
   "execution_count": 90,
   "id": "b1196198",
   "metadata": {},
   "outputs": [],
   "source": [
    "d1=Distance(2,25)\n",
    "d2=Distance(6,8)\n"
   ]
  },
  {
   "cell_type": "code",
   "execution_count": 91,
   "id": "1abb421e",
   "metadata": {},
   "outputs": [
    {
     "data": {
      "text/plain": [
       "(10, 9)"
      ]
     },
     "execution_count": 91,
     "metadata": {},
     "output_type": "execute_result"
    }
   ],
   "source": [
    "d1+d2"
   ]
  },
  {
   "cell_type": "code",
   "execution_count": null,
   "id": "1997cab2",
   "metadata": {},
   "outputs": [],
   "source": []
  }
 ],
 "metadata": {
  "kernelspec": {
   "display_name": "Python 3 (ipykernel)",
   "language": "python",
   "name": "python3"
  },
  "language_info": {
   "codemirror_mode": {
    "name": "ipython",
    "version": 3
   },
   "file_extension": ".py",
   "mimetype": "text/x-python",
   "name": "python",
   "nbconvert_exporter": "python",
   "pygments_lexer": "ipython3",
   "version": "3.9.12"
  }
 },
 "nbformat": 4,
 "nbformat_minor": 5
}
