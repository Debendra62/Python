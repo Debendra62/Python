{
 "cells": [
  {
   "cell_type": "markdown",
   "metadata": {},
   "source": [
    "# Linear Regression using Gradient Descent  \n",
    "![Gradeint descent](animation1.gif)\n",
    "## Linear Regression   \n",
    "In statistics, linear regression is a linear approach to modelling the relationship between a dependent variable and one or more independent variables. \n",
    "Let **X** be the independent variable and **Y** be the dependent variable. We will define a linear relationship between these two variables as follows:  \n",
    "\n",
    "\\\\[ Y = mX + c \\\\]  \n",
    "![mxplusc](http://www.nabla.hr/SlopeInterceptLineEqu.gif)\n",
    "\n",
    "This is the equation for a line that you studied in high school. **m** is the slope of the line and **c** is the y intercept. Today we will use this equation to train our model with a given dataset and predict the value of **Y** for any given value of **X**.  \n",
    "  \n",
    "Our challenege today is to determine the value of **m** and **c**, such that the line corresponding to those values is the best fitting line or gives the minimum error.  \n",
    "## Loss function  \n",
    "The loss is the error in our predicted of **m** and **c**. Our goal is to minimize this error to obtain the most accurance value of **m** and **c**.  \n",
    "We will use the Mean Squared Error function to calculate the loss. There are three steps in this function:\n",
    "1. Find the difference between the actual y and predicted y value(y = mx + c), for a given x.  \n",
    "2. Square this difference.\n",
    "3. Find the mean of the squares for every value in X.  \n",
    "\\\\[ E = \\frac{1}{n} \\sum_{i=0}^n (y_i - \\bar y_i)^2\\\\]  \n",
    "\n",
    "Here $y_i$ is the actual value and $\\bar y_i$ is the predicted value. Lets substitue the value of $\\bar y_i$\n",
    "\\\\[ E = \\frac{1}{n} \\sum_{i=0}^n (y_i - (mx_i + c))^2\\\\]\n",
    "So we square the error and find the mean. hence the name Mean Squared Error.  \n",
    "Now that we have defined the loss function, lets get into the interesting part - minimizing it and finding **m** and **c**\n",
    "\n",
    "## The Gradient Descent Algorithm  \n",
    "Gradient descent is an iterative optimization algorithm to find the minimum of a function. Here that function is our Loss Function.  \n",
    "**Understanding Gradient Descent**  \n",
    "![valley](valley-illustration.jpg)  \n",
    "\n",
    "Imagine a valley and a person with no sense of direction who wants to get to the bottom of the valley. He goes down the slope and takes large steps when the slope is steep and small steps when the slope is less steep. He decides his next position based on his current position and stops when he gets to the bottom of the valley which was his goal.   \n",
    "Let's try applying gradient descent to **m** and **c** and approach it step by step: \n",
    "1. Initially let m = 0 and c = 0. Let L be our learning rate. This controls how much the value of **m** changes with each step. L could be a small value like 0.0001 for good accuracy. \n",
    "2. Calculate the partial derivative of the loss function with respect to m, and plug in the current values of x, y, m and c in it to obtain the derivative value **D**.  \n",
    "\\\\[ D_m = \\frac{1}{n} \\sum_{i=0}^n 2(y_i - (mx_i + c))(-x_i) \\\\]\n",
    "\\\\[ D_m = \\frac{-2}{n} \\sum_{i=0}^n x_i(y_i - \\bar y_i) \\\\]  \n",
    "$D_m$ is the value of the partial derivative with respect to **m**. Similarly lets find the partial derivative with respect to **c**, $D_c$ :  \n",
    "\\\\[ D_c = \\frac{-2}{n} \\sum_{i=0}^n (y_i - \\bar y_i) \\\\]\n",
    "3. Now we update the current value of **m** and **c** using the following equation: \n",
    "\\\\[ m = m - L \\times D_m\\\\]  \n",
    "\\\\[ c = c - L \\times D_c\\\\]  \n",
    "4. We repeat this process untill our loss function is a very small value or ideally 0 (which means 0 error or 100% accuracy). The value of **m** and **c** that we are left with now will be the optimum values.  \n",
    "  \n",
    "Now going back to our analogy, **m** can be considered the current position of the person. **D** is equivalent to the steepness of the slope and **L** can be the speed with which he moves. Now the new value of **m** that we calculate using the above equation will be his next positon, and $L \\times D$ will be the size of the steps he will take. When the slope is more steep (**D** is more) he takes longer steps and when it is less steep (**D** is less), he takes smaller steps. Finally he arrives at the bottom of the valley which corresponds to our loss = 0.  \n",
    "We repeat the same process above to find the value of **c** also. Now with the optimum value of **m** and **c** our model is ready to make predictions !  \n",
    "\n"
   ]
  }
 ],
 "metadata": {
  "kernelspec": {
   "display_name": "Python 3 (ipykernel)",
   "language": "python",
   "name": "python3"
  },
  "language_info": {
   "codemirror_mode": {
    "name": "ipython",
    "version": 3
   },
   "file_extension": ".py",
   "mimetype": "text/x-python",
   "name": "python",
   "nbconvert_exporter": "python",
   "pygments_lexer": "ipython3",
   "version": "3.9.12"
  }
 },
 "nbformat": 4,
 "nbformat_minor": 2
}
