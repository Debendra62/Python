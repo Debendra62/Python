{
 "cells": [
  {
   "cell_type": "code",
   "execution_count": 115,
   "id": "de29249f",
   "metadata": {},
   "outputs": [],
   "source": [
    "import pandas as pd\n",
    "import numpy as np\n",
    "import matplotlib.pyplot as plt"
   ]
  },
  {
   "cell_type": "markdown",
   "id": "1883e70d",
   "metadata": {},
   "source": [
    "y(^)(x)=1/(1+exp(-z))    # Gives y(^) value between 0 to 1\n",
    "\n",
    "z=m1*x1+m2*x2+.......+m8*x8+c\n",
    "\n",
    "Loss=-y*log(y(^))-(1-y)*log(1-y(^))\n",
    "\n",
    "dL/dc=sum(y(^)-y)/n\n",
    "\n",
    "c(new)=c(old)-alpha*(dL/dc)"
   ]
  },
  {
   "cell_type": "code",
   "execution_count": 116,
   "id": "5b0413ce",
   "metadata": {},
   "outputs": [],
   "source": [
    "df=pd.read_csv(\"Diabetes.csv\")"
   ]
  },
  {
   "cell_type": "code",
   "execution_count": 117,
   "id": "ef547a27",
   "metadata": {},
   "outputs": [
    {
     "data": {
      "text/html": [
       "<div>\n",
       "<style scoped>\n",
       "    .dataframe tbody tr th:only-of-type {\n",
       "        vertical-align: middle;\n",
       "    }\n",
       "\n",
       "    .dataframe tbody tr th {\n",
       "        vertical-align: top;\n",
       "    }\n",
       "\n",
       "    .dataframe thead th {\n",
       "        text-align: right;\n",
       "    }\n",
       "</style>\n",
       "<table border=\"1\" class=\"dataframe\">\n",
       "  <thead>\n",
       "    <tr style=\"text-align: right;\">\n",
       "      <th></th>\n",
       "      <th>Pragnency</th>\n",
       "      <th>Glucose</th>\n",
       "      <th>Blod Pressure</th>\n",
       "      <th>Skin Thikness</th>\n",
       "      <th>Insulin</th>\n",
       "      <th>BMI</th>\n",
       "      <th>DFP</th>\n",
       "      <th>Age</th>\n",
       "      <th>Diabetes</th>\n",
       "    </tr>\n",
       "  </thead>\n",
       "  <tbody>\n",
       "    <tr>\n",
       "      <th>0</th>\n",
       "      <td>1</td>\n",
       "      <td>85</td>\n",
       "      <td>66</td>\n",
       "      <td>29</td>\n",
       "      <td>0</td>\n",
       "      <td>26.6</td>\n",
       "      <td>0.351</td>\n",
       "      <td>31</td>\n",
       "      <td>0</td>\n",
       "    </tr>\n",
       "    <tr>\n",
       "      <th>1</th>\n",
       "      <td>8</td>\n",
       "      <td>183</td>\n",
       "      <td>64</td>\n",
       "      <td>0</td>\n",
       "      <td>0</td>\n",
       "      <td>23.3</td>\n",
       "      <td>0.672</td>\n",
       "      <td>32</td>\n",
       "      <td>1</td>\n",
       "    </tr>\n",
       "    <tr>\n",
       "      <th>2</th>\n",
       "      <td>1</td>\n",
       "      <td>89</td>\n",
       "      <td>66</td>\n",
       "      <td>23</td>\n",
       "      <td>94</td>\n",
       "      <td>28.1</td>\n",
       "      <td>0.167</td>\n",
       "      <td>21</td>\n",
       "      <td>0</td>\n",
       "    </tr>\n",
       "    <tr>\n",
       "      <th>3</th>\n",
       "      <td>0</td>\n",
       "      <td>137</td>\n",
       "      <td>40</td>\n",
       "      <td>35</td>\n",
       "      <td>168</td>\n",
       "      <td>43.1</td>\n",
       "      <td>2.288</td>\n",
       "      <td>33</td>\n",
       "      <td>1</td>\n",
       "    </tr>\n",
       "    <tr>\n",
       "      <th>4</th>\n",
       "      <td>5</td>\n",
       "      <td>116</td>\n",
       "      <td>74</td>\n",
       "      <td>0</td>\n",
       "      <td>0</td>\n",
       "      <td>25.6</td>\n",
       "      <td>0.201</td>\n",
       "      <td>30</td>\n",
       "      <td>0</td>\n",
       "    </tr>\n",
       "  </tbody>\n",
       "</table>\n",
       "</div>"
      ],
      "text/plain": [
       "   Pragnency  Glucose  Blod Pressure  Skin Thikness  Insulin   BMI    DFP  \\\n",
       "0          1       85             66             29        0  26.6  0.351   \n",
       "1          8      183             64              0        0  23.3  0.672   \n",
       "2          1       89             66             23       94  28.1  0.167   \n",
       "3          0      137             40             35      168  43.1  2.288   \n",
       "4          5      116             74              0        0  25.6  0.201   \n",
       "\n",
       "   Age  Diabetes  \n",
       "0   31         0  \n",
       "1   32         1  \n",
       "2   21         0  \n",
       "3   33         1  \n",
       "4   30         0  "
      ]
     },
     "execution_count": 117,
     "metadata": {},
     "output_type": "execute_result"
    }
   ],
   "source": [
    "df.head()"
   ]
  },
  {
   "cell_type": "code",
   "execution_count": 118,
   "id": "ee2d0e2a",
   "metadata": {},
   "outputs": [],
   "source": [
    "x=df.iloc[:,:-1].values   #last column remove     #.values changes it into numpy array\n",
    "y=df.iloc[:,-1:].values   #last column only got"
   ]
  },
  {
   "cell_type": "code",
   "execution_count": 119,
   "id": "8efcbf21",
   "metadata": {},
   "outputs": [],
   "source": [
    "class LogisticRegression:\n",
    "    def __init__(self,lr,epochs):\n",
    "        self.lr=lr\n",
    "        self.epochs=epochs\n",
    "        \n",
    "    def fit(self,X,y):\n",
    "        self.m,self.n=X.shape\n",
    "        self.c=0\n",
    "        self.M=np.zeros(self.n)\n",
    "        self.X=X\n",
    "        self.y=y\n",
    "        for i in range(self.epochs):\n",
    "            self.update_weights()\n",
    "            \n",
    "    def update_weights(self):\n",
    "        z=self.X.dot(self.M)+self.c\n",
    "        y_pred=1/(1+np.exp(-z))\n",
    "        temp=y_pred-self.y.T                # T is used to tranpose the array(change row in column and vice versa)\n",
    "        temp=temp.reshape(self.m)\n",
    "        d_M=np.dot(self.X.T,temp)/self.m\n",
    "        d_c=np.sum(temp)/self.m\n",
    "        self.c=self.c-self.lr*d_c\n",
    "        self.M=self.M-self.lr*d_M\n",
    "        \n",
    "    \n",
    "    def predict(self):\n",
    "        z=self.X.dot(self.M)+self.c\n",
    "        y_pred=1/(1+np.exp(-z))\n",
    "        y=np.where(y_pred>0.5,1,0)\n",
    "        return y    "
   ]
  },
  {
   "cell_type": "code",
   "execution_count": 120,
   "id": "786214ea",
   "metadata": {},
   "outputs": [],
   "source": [
    "model=LogisticRegression(0.0001,10000)\n",
    "model.fit(x,y)\n",
    "y_pred=model.predict()"
   ]
  },
  {
   "cell_type": "code",
   "execution_count": null,
   "id": "935f3c73",
   "metadata": {},
   "outputs": [],
   "source": []
  },
  {
   "cell_type": "code",
   "execution_count": 121,
   "id": "5bfd6fb0",
   "metadata": {},
   "outputs": [],
   "source": [
    "from sklearn.metrics import confusion_matrix"
   ]
  },
  {
   "cell_type": "code",
   "execution_count": 122,
   "id": "32268835",
   "metadata": {},
   "outputs": [],
   "source": [
    "c=confusion_matrix(y,y_pred)"
   ]
  },
  {
   "cell_type": "code",
   "execution_count": 123,
   "id": "83b89cce",
   "metadata": {},
   "outputs": [
    {
     "data": {
      "text/plain": [
       "array([[443,  57],\n",
       "       [176,  91]], dtype=int64)"
      ]
     },
     "execution_count": 123,
     "metadata": {},
     "output_type": "execute_result"
    }
   ],
   "source": [
    "c"
   ]
  },
  {
   "cell_type": "code",
   "execution_count": null,
   "id": "0c3f1d09",
   "metadata": {},
   "outputs": [],
   "source": []
  },
  {
   "cell_type": "markdown",
   "id": "3d4f15eb",
   "metadata": {},
   "source": [
    ".............     ... Predicted\n",
    "\n",
    "          1(p)  .0(N)\n",
    "\n",
    "Actual...1......TP......FN\n",
    "\n",
    "...........0......FP.....TN\n",
    "    \n",
    "\n"
   ]
  },
  {
   "cell_type": "markdown",
   "id": "19cfd763",
   "metadata": {},
   "source": [
    "Precision=TP/(TP+FP)  #Business\n",
    "\n",
    "Recall=TP/(TP+FN)     #Medical\n",
    "\n",
    "f-score=2/(1/Precision+1/Recall)\n",
    "\n",
    "### When tried to increase FP then FN decrease and vice versa\n",
    "\n",
    "### same for precision and recall"
   ]
  },
  {
   "cell_type": "code",
   "execution_count": null,
   "id": "9452b6e1",
   "metadata": {},
   "outputs": [],
   "source": []
  },
  {
   "cell_type": "code",
   "execution_count": 124,
   "id": "87dc691d",
   "metadata": {},
   "outputs": [
    {
     "data": {
      "text/plain": [
       "0.6962190352020861"
      ]
     },
     "execution_count": 124,
     "metadata": {},
     "output_type": "execute_result"
    }
   ],
   "source": [
    "(c[0][0]+c[1][1])/(c[0][0]+c[1][1]+c[0][1]+c[1][0])"
   ]
  },
  {
   "cell_type": "code",
   "execution_count": 125,
   "id": "14980045",
   "metadata": {},
   "outputs": [],
   "source": [
    "Precision=c[0][0]/(c[0][0]+c[1][0])"
   ]
  },
  {
   "cell_type": "code",
   "execution_count": 126,
   "id": "c1815234",
   "metadata": {},
   "outputs": [
    {
     "data": {
      "text/plain": [
       "0.715670436187399"
      ]
     },
     "execution_count": 126,
     "metadata": {},
     "output_type": "execute_result"
    }
   ],
   "source": [
    "Precision"
   ]
  },
  {
   "cell_type": "code",
   "execution_count": 127,
   "id": "a35fc365",
   "metadata": {},
   "outputs": [],
   "source": [
    "Recall=c[0][0]/(c[0][0]+c[0][1])"
   ]
  },
  {
   "cell_type": "code",
   "execution_count": 128,
   "id": "59a321e7",
   "metadata": {},
   "outputs": [
    {
     "data": {
      "text/plain": [
       "0.886"
      ]
     },
     "execution_count": 128,
     "metadata": {},
     "output_type": "execute_result"
    }
   ],
   "source": [
    "Recall"
   ]
  },
  {
   "cell_type": "code",
   "execution_count": 129,
   "id": "e8257ee9",
   "metadata": {},
   "outputs": [],
   "source": [
    "f_score=2/(1/Precision+1/Recall)\n"
   ]
  },
  {
   "cell_type": "code",
   "execution_count": 130,
   "id": "bdc15528",
   "metadata": {},
   "outputs": [
    {
     "data": {
      "text/plain": [
       "0.7917783735478104"
      ]
     },
     "execution_count": 130,
     "metadata": {},
     "output_type": "execute_result"
    }
   ],
   "source": [
    "f_score"
   ]
  },
  {
   "cell_type": "code",
   "execution_count": null,
   "id": "d1ac0b38",
   "metadata": {},
   "outputs": [],
   "source": []
  },
  {
   "cell_type": "code",
   "execution_count": 133,
   "id": "b0b35c93",
   "metadata": {},
   "outputs": [
    {
     "name": "stdout",
     "output_type": "stream",
     "text": [
      "0.6962190352020861\n"
     ]
    }
   ],
   "source": [
    "count=0\n",
    "correctly_classified=0\n",
    "for i in range(len(y_pred)):\n",
    "    if y_pred[i]==y[i]:\n",
    "        correctly_classified+=1\n",
    "        \n",
    "    count+=1\n",
    "    \n",
    "print(correctly_classified/count)"
   ]
  },
  {
   "cell_type": "code",
   "execution_count": 135,
   "id": "ad4d65e0",
   "metadata": {},
   "outputs": [],
   "source": [
    "from sklearn.linear_model import LogisticRegression"
   ]
  },
  {
   "cell_type": "code",
   "execution_count": 139,
   "id": "4f212890",
   "metadata": {},
   "outputs": [
    {
     "name": "stdout",
     "output_type": "stream",
     "text": [
      "0.6962190352020861\n"
     ]
    }
   ],
   "source": [
    "import warnings\n",
    "warnings.filterwarnings(\"ignore\")\n",
    "\n",
    "model1=LogisticRegression()\n",
    "model1.fit(x,y)\n",
    "model_pred=model1.predict(x)\n",
    "print((c[0][0]+c[1][1])/(c[0][0]+c[1][1]+c[0][1]+c[1][0]))"
   ]
  },
  {
   "cell_type": "code",
   "execution_count": null,
   "id": "8cbdcaea",
   "metadata": {},
   "outputs": [],
   "source": []
  }
 ],
 "metadata": {
  "kernelspec": {
   "display_name": "Python 3 (ipykernel)",
   "language": "python",
   "name": "python3"
  },
  "language_info": {
   "codemirror_mode": {
    "name": "ipython",
    "version": 3
   },
   "file_extension": ".py",
   "mimetype": "text/x-python",
   "name": "python",
   "nbconvert_exporter": "python",
   "pygments_lexer": "ipython3",
   "version": "3.9.12"
  }
 },
 "nbformat": 4,
 "nbformat_minor": 5
}
