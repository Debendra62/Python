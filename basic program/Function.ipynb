{
 "cells": [
  {
   "cell_type": "markdown",
   "id": "b66834bc",
   "metadata": {},
   "source": [
    "# Functions"
   ]
  },
  {
   "cell_type": "code",
   "execution_count": 54,
   "id": "80f35e50",
   "metadata": {},
   "outputs": [],
   "source": [
    "def my_function(*a):                   #function defination\n",
    "    print(a)\n",
    "    a=list(a)\n",
    "    print(a)\n",
    "    a.append(\"Austrilia\")\n",
    "    print(a)\n",
    "    a=tuple(a)\n",
    "    print(a)\n",
    "    "
   ]
  },
  {
   "cell_type": "code",
   "execution_count": 65,
   "id": "b6691131",
   "metadata": {
    "scrolled": true
   },
   "outputs": [
    {
     "name": "stdout",
     "output_type": "stream",
     "text": [
      "('nepal', 'USA', 'UK')\n",
      "['nepal', 'USA', 'UK']\n",
      "['nepal', 'USA', 'UK', 'Austrilia']\n",
      "('nepal', 'USA', 'UK', 'Austrilia')\n"
     ]
    }
   ],
   "source": [
    "my_function(\"nepal\",\"USA\",\"UK\")                  #function call"
   ]
  },
  {
   "cell_type": "markdown",
   "id": "c73a404c",
   "metadata": {},
   "source": [
    "# using spliting in function also using *args"
   ]
  },
  {
   "cell_type": "code",
   "execution_count": 78,
   "id": "3255c8c2",
   "metadata": {},
   "outputs": [],
   "source": [
    "def new_function(*cast):\n",
    "    for i in cast:\n",
    "        print(i.split()[1])"
   ]
  },
  {
   "cell_type": "code",
   "execution_count": 79,
   "id": "f39f05d5",
   "metadata": {
    "scrolled": false
   },
   "outputs": [
    {
     "name": "stdout",
     "output_type": "stream",
     "text": [
      "Indra\n",
      "gurung\n",
      "adhikari\n"
     ]
    }
   ],
   "source": [
    "new_function(\"dev Indra\",\"bishal gurung\",\"dipak adhikari\")"
   ]
  },
  {
   "cell_type": "markdown",
   "id": "cb540f7f",
   "metadata": {},
   "source": [
    "# using indexing in function also using *args (tuple)"
   ]
  },
  {
   "cell_type": "code",
   "execution_count": 75,
   "id": "46d74791",
   "metadata": {},
   "outputs": [],
   "source": [
    "def secondnew(*cast):\n",
    "    for i in cast:\n",
    "        print(i[i.index(\" \")+1:])"
   ]
  },
  {
   "cell_type": "code",
   "execution_count": 73,
   "id": "e4c012d9",
   "metadata": {},
   "outputs": [
    {
     "name": "stdout",
     "output_type": "stream",
     "text": [
      "Indra\n",
      "gurung\n",
      "adhikari\n"
     ]
    }
   ],
   "source": [
    "secondnew(\"dev Indra\",\"bishal gurung\",\"dipak adhikari\")"
   ]
  },
  {
   "cell_type": "markdown",
   "id": "2fd30148",
   "metadata": {},
   "source": [
    "# keyword argument in function (**kwargs)  {dictionary}"
   ]
  },
  {
   "cell_type": "code",
   "execution_count": 89,
   "id": "0c685472",
   "metadata": {},
   "outputs": [],
   "source": [
    "def old_function(**kwargs):\n",
    "    print(kwargs)"
   ]
  },
  {
   "cell_type": "code",
   "execution_count": 90,
   "id": "2a4fce4d",
   "metadata": {},
   "outputs": [
    {
     "name": "stdout",
     "output_type": "stream",
     "text": [
      "{'b': 4, 'a': 3}\n"
     ]
    }
   ],
   "source": [
    "old_function(b=4,a=3)"
   ]
  }
 ],
 "metadata": {
  "kernelspec": {
   "display_name": "Python 3 (ipykernel)",
   "language": "python",
   "name": "python3"
  },
  "language_info": {
   "codemirror_mode": {
    "name": "ipython",
    "version": 3
   },
   "file_extension": ".py",
   "mimetype": "text/x-python",
   "name": "python",
   "nbconvert_exporter": "python",
   "pygments_lexer": "ipython3",
   "version": "3.9.12"
  }
 },
 "nbformat": 4,
 "nbformat_minor": 5
}
