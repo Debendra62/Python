{
 "cells": [
  {
   "cell_type": "markdown",
   "id": "3f660453",
   "metadata": {},
   "source": [
    "# WAP to input integer and add 10 to it and print it ."
   ]
  },
  {
   "cell_type": "code",
   "execution_count": 1,
   "id": "c16e50f1",
   "metadata": {},
   "outputs": [
    {
     "name": "stdout",
     "output_type": "stream",
     "text": [
      "Enter a integer number : 2\n",
      "The new integer is 12\n"
     ]
    }
   ],
   "source": [
    "a=int(input(\"Enter a integer number : \"))\n",
    "b=a+10\n",
    "print(f\"The new integer is {b}\")"
   ]
  },
  {
   "cell_type": "markdown",
   "id": "7ed2be03",
   "metadata": {},
   "source": [
    "# WAP to input string and concatenate another string"
   ]
  },
  {
   "cell_type": "code",
   "execution_count": 2,
   "id": "e6a896ba",
   "metadata": {},
   "outputs": [
    {
     "name": "stdout",
     "output_type": "stream",
     "text": [
      "Enter a string : dev\n",
      "The new string is  Hello! dev.\n"
     ]
    }
   ],
   "source": [
    "c=input(\"Enter a string : \")\n",
    "d=\" Hello! \"+c\n",
    "print(f\"The new string is {d}.\")"
   ]
  },
  {
   "cell_type": "markdown",
   "id": "c9f23f13",
   "metadata": {},
   "source": [
    "# WAP to find sum of two numbers. Use input() function to take input from the user"
   ]
  },
  {
   "cell_type": "code",
   "execution_count": null,
   "id": "50999045",
   "metadata": {},
   "outputs": [],
   "source": [
    "e=(input(\"Enter a integer number : \"))\n",
    "f=(input(\"Enter a integer number : \"))\n",
    "print(e+f)\n",
    "g=int(e)\n",
    "h=int(f)\n",
    "print(g+h)"
   ]
  },
  {
   "cell_type": "code",
   "execution_count": null,
   "id": "e4281333",
   "metadata": {},
   "outputs": [],
   "source": [
    "s=(input(\"Enter a integer number : \"))\n",
    "j=[i.lower() for i in s.split()]\n",
    "k=tuple(i.lower() for i in s.split())"
   ]
  },
  {
   "cell_type": "code",
   "execution_count": null,
   "id": "5b123df6",
   "metadata": {},
   "outputs": [],
   "source": [
    "print(j)\n",
    "print(k)\n",
    "print(j[1])"
   ]
  },
  {
   "cell_type": "markdown",
   "id": "976fd1fa",
   "metadata": {},
   "source": [
    "# WAP a program to find sum and average of 10 number stored in a list . Take 10 numbers input from the user and store it to the list"
   ]
  },
  {
   "cell_type": "code",
   "execution_count": 12,
   "id": "5e404df0",
   "metadata": {},
   "outputs": [
    {
     "name": "stdout",
     "output_type": "stream",
     "text": [
      "Enter a 1 number : 2\n",
      "Enter a 2 number : 3\n",
      "Enter a 3 number : 3\n",
      "Enter a 4 number : 4\n",
      "Enter a 5 number : 5\n",
      "Enter a 6 number : 6\n",
      "Enter a 7 number : 7\n",
      "Enter a 8 number : 8\n",
      "Enter a 9 number : 9\n",
      "Enter a 10 number : 10\n",
      "The sum is 0\n"
     ]
    }
   ],
   "source": [
    "i=0\n",
    "sum=0\n",
    "val=[]\n",
    "for i in range(0,10):\n",
    "    val.append(int(input(f\"Enter a {i+1} number : \")))\n",
    "    \n",
    "print(f\"The sum is {sum}\")    "
   ]
  }
 ],
 "metadata": {
  "kernelspec": {
   "display_name": "Python 3 (ipykernel)",
   "language": "python",
   "name": "python3"
  },
  "language_info": {
   "codemirror_mode": {
    "name": "ipython",
    "version": 3
   },
   "file_extension": ".py",
   "mimetype": "text/x-python",
   "name": "python",
   "nbconvert_exporter": "python",
   "pygments_lexer": "ipython3",
   "version": "3.9.12"
  }
 },
 "nbformat": 4,
 "nbformat_minor": 5
}
