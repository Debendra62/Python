{
 "cells": [
  {
   "cell_type": "markdown",
   "id": "4a81c8ba",
   "metadata": {},
   "source": [
    "## range --> 0,9\n",
    "## for loop : print square\n",
    "## result in list "
   ]
  },
  {
   "cell_type": "code",
   "execution_count": 8,
   "id": "aee030c0",
   "metadata": {},
   "outputs": [
    {
     "name": "stdout",
     "output_type": "stream",
     "text": [
      "[0, 1, 4, 9, 16, 25, 36, 49, 64, 81]\n"
     ]
    },
    {
     "data": {
      "text/plain": [
       "[0, 1, 4, 9, 16, 25, 36, 49, 64, 81]"
      ]
     },
     "execution_count": 8,
     "metadata": {},
     "output_type": "execute_result"
    }
   ],
   "source": [
    "result=[]\n",
    "for i in range(10):\n",
    "    a=i*i\n",
    "    result.append(a)\n",
    "print(result)    \n",
    "\n",
    "[i**2 for i in range(10)]      #for list comprehension"
   ]
  },
  {
   "cell_type": "code",
   "execution_count": 23,
   "id": "87e3ee0d",
   "metadata": {
    "scrolled": true
   },
   "outputs": [
    {
     "data": {
      "text/plain": [
       "[0, 10, 20, 30, 40, 50, 60, 70, 80, 90, 100]"
      ]
     },
     "execution_count": 23,
     "metadata": {},
     "output_type": "execute_result"
    }
   ],
   "source": [
    "[i for i in range(101) if (i%2==0 and i%5==0)]"
   ]
  },
  {
   "cell_type": "markdown",
   "id": "29ac2687",
   "metadata": {},
   "source": [
    "# zip = Add each element of list"
   ]
  },
  {
   "cell_type": "code",
   "execution_count": 34,
   "id": "c2fb63dd",
   "metadata": {
    "scrolled": true
   },
   "outputs": [
    {
     "name": "stdout",
     "output_type": "stream",
     "text": [
      "Sagar Pandey\n",
      "Basante Khan\n",
      "Krishna Adhikari\n"
     ]
    }
   ],
   "source": [
    "firstName=[\"Sagar\",\"Basante\",\"Krishna\"]\n",
    "lastName=[\"Pandey\",\"Khan\",\"Adhikari\"]\n",
    "\n",
    "for f,l in zip(firstName,lastName):\n",
    "    print(f\"{f} {l}\")"
   ]
  },
  {
   "cell_type": "code",
   "execution_count": 35,
   "id": "1642b4a2",
   "metadata": {},
   "outputs": [
    {
     "data": {
      "text/plain": [
       "[('Sagar', 'Pandey'), ('Basante', 'Khan'), ('Krishna', 'Adhikari')]"
      ]
     },
     "execution_count": 35,
     "metadata": {},
     "output_type": "execute_result"
    }
   ],
   "source": [
    "[(f,l) for f,l in zip(firstName,lastName)]"
   ]
  },
  {
   "cell_type": "code",
   "execution_count": 33,
   "id": "2c89a6c9",
   "metadata": {
    "scrolled": true
   },
   "outputs": [
    {
     "data": {
      "text/plain": [
       "[('Sagar', 'Pandey'), ('Basante', 'Khan'), ('Krishna', 'Adhikari')]"
      ]
     },
     "execution_count": 33,
     "metadata": {},
     "output_type": "execute_result"
    }
   ],
   "source": [
    "list(zip(firstName,lastName))"
   ]
  },
  {
   "cell_type": "code",
   "execution_count": 38,
   "id": "d910fccc",
   "metadata": {},
   "outputs": [
    {
     "name": "stdout",
     "output_type": "stream",
     "text": [
      "5.289999999999999\n",
      "19.779999999999998\n",
      "18.36\n"
     ]
    }
   ],
   "source": [
    "length=[2.3,4.3,3.4]\n",
    "breadth=[2.3,4.6,5.4]\n",
    "for l,b in zip(length,breadth):\n",
    "    print(l*b)"
   ]
  },
  {
   "cell_type": "code",
   "execution_count": null,
   "id": "b1ae9e6b",
   "metadata": {},
   "outputs": [],
   "source": []
  }
 ],
 "metadata": {
  "kernelspec": {
   "display_name": "Python 3 (ipykernel)",
   "language": "python",
   "name": "python3"
  },
  "language_info": {
   "codemirror_mode": {
    "name": "ipython",
    "version": 3
   },
   "file_extension": ".py",
   "mimetype": "text/x-python",
   "name": "python",
   "nbconvert_exporter": "python",
   "pygments_lexer": "ipython3",
   "version": "3.9.12"
  }
 },
 "nbformat": 4,
 "nbformat_minor": 5
}
