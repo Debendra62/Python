{
 "cells": [
  {
   "cell_type": "markdown",
   "id": "dc56d3f8",
   "metadata": {},
   "source": [
    "# Dictionary ( Ordered , Changeable , No Duplicate)"
   ]
  },
  {
   "cell_type": "markdown",
   "id": "439fabcd",
   "metadata": {},
   "source": [
    "### {Key:value}"
   ]
  },
  {
   "cell_type": "markdown",
   "id": "62f5aa91",
   "metadata": {},
   "source": [
    "### Difference between list and dictionary"
   ]
  },
  {
   "cell_type": "code",
   "execution_count": 27,
   "id": "ad9207dc",
   "metadata": {},
   "outputs": [],
   "source": [
    "l=[1,2,3,4]"
   ]
  },
  {
   "cell_type": "code",
   "execution_count": 9,
   "id": "7f09e87c",
   "metadata": {},
   "outputs": [
    {
     "data": {
      "text/plain": [
       "1"
      ]
     },
     "execution_count": 9,
     "metadata": {},
     "output_type": "execute_result"
    }
   ],
   "source": [
    "l[0]"
   ]
  },
  {
   "cell_type": "code",
   "execution_count": 15,
   "id": "1638044b",
   "metadata": {},
   "outputs": [],
   "source": [
    "d={\"Hi\":[1,2,3],\"Hello\":2,\"Namaste\":3,\"Asalam Malikum\":4}"
   ]
  },
  {
   "cell_type": "code",
   "execution_count": 16,
   "id": "dd2a79e2",
   "metadata": {},
   "outputs": [
    {
     "data": {
      "text/plain": [
       "[1, 2, 3]"
      ]
     },
     "execution_count": 16,
     "metadata": {},
     "output_type": "execute_result"
    }
   ],
   "source": [
    "d[\"Hi\"]"
   ]
  },
  {
   "cell_type": "markdown",
   "id": "2ffae9a3",
   "metadata": {},
   "source": [
    "### list inside dictionary"
   ]
  },
  {
   "cell_type": "code",
   "execution_count": 4,
   "id": "0b9d0beb",
   "metadata": {},
   "outputs": [],
   "source": [
    "a={\"marks\":[90,30,55],\"roll\":[1,2,3]}"
   ]
  },
  {
   "cell_type": "code",
   "execution_count": 5,
   "id": "43b9fe5c",
   "metadata": {},
   "outputs": [
    {
     "name": "stdout",
     "output_type": "stream",
     "text": [
      "{'marks': [90, 30, 55], 'roll': [1, 2, 3], 'college': 'Texas'}\n"
     ]
    }
   ],
   "source": [
    "a[\"college\"]=\"Texas\"\n",
    "print(a)"
   ]
  },
  {
   "cell_type": "markdown",
   "id": "97cda7c6",
   "metadata": {},
   "source": [
    "### update"
   ]
  },
  {
   "cell_type": "code",
   "execution_count": 6,
   "id": "62094c53",
   "metadata": {},
   "outputs": [
    {
     "name": "stdout",
     "output_type": "stream",
     "text": [
      "{'marks': [90, 30, 55], 'roll': [1, 2, 3], 'college': 'Texas', 'Name': ['Dev', 'Indra']}\n"
     ]
    }
   ],
   "source": [
    "a.update({\"Name\":[\"Dev\",\"Indra\"]})\n",
    "print(a)"
   ]
  },
  {
   "cell_type": "markdown",
   "id": "a3e36851",
   "metadata": {},
   "source": [
    "### Pop"
   ]
  },
  {
   "cell_type": "code",
   "execution_count": 1,
   "id": "12f3d793",
   "metadata": {},
   "outputs": [],
   "source": [
    "# a.pop(\"marks\")"
   ]
  },
  {
   "cell_type": "code",
   "execution_count": 2,
   "id": "651e4f93",
   "metadata": {},
   "outputs": [],
   "source": [
    "# a.popitem()"
   ]
  },
  {
   "cell_type": "markdown",
   "id": "daecd3dc",
   "metadata": {},
   "source": [
    "## items ,value and keys "
   ]
  },
  {
   "cell_type": "code",
   "execution_count": 10,
   "id": "7c33ac50",
   "metadata": {
    "scrolled": true
   },
   "outputs": [
    {
     "name": "stdout",
     "output_type": "stream",
     "text": [
      "Hi [1, 2, 3]\n",
      "Hello 2\n",
      "Namaste 3\n",
      "Asalam Malikum 4\n"
     ]
    }
   ],
   "source": [
    "for key,value in x.items():\n",
    "    print(key,value)"
   ]
  },
  {
   "cell_type": "code",
   "execution_count": 13,
   "id": "a04a1f12",
   "metadata": {},
   "outputs": [
    {
     "name": "stdout",
     "output_type": "stream",
     "text": [
      "[1, 2, 3]\n",
      "2\n",
      "3\n",
      "4\n"
     ]
    }
   ],
   "source": [
    "for i in x.values():\n",
    "    print(i)"
   ]
  },
  {
   "cell_type": "code",
   "execution_count": 9,
   "id": "b195b023",
   "metadata": {},
   "outputs": [
    {
     "name": "stdout",
     "output_type": "stream",
     "text": [
      "[1, 2, 3]\n",
      "2\n",
      "3\n",
      "4\n"
     ]
    }
   ],
   "source": [
    "x={\"Hi\":[1,2,3],\"Hello\":2,\"Namaste\":3,\"Asalam Malikum\":4}\n",
    "for i in x.keys():\n",
    "    print(x[i])"
   ]
  },
  {
   "cell_type": "markdown",
   "id": "bef274ea",
   "metadata": {},
   "source": [
    "### Dictionary comprehension"
   ]
  },
  {
   "cell_type": "code",
   "execution_count": 21,
   "id": "282e01f8",
   "metadata": {},
   "outputs": [],
   "source": [
    " price={\"milk\":2.04,\"bread\":1.5,\"meat\":3}  #in dollar  "
   ]
  },
  {
   "cell_type": "code",
   "execution_count": 19,
   "id": "470e11c0",
   "metadata": {},
   "outputs": [],
   "source": [
    "usd_to_rs=125"
   ]
  },
  {
   "cell_type": "code",
   "execution_count": 20,
   "id": "520dd0f2",
   "metadata": {},
   "outputs": [
    {
     "data": {
      "text/plain": [
       "{'milk': 255.0, 'bread': 187.5, 'meat': 375}"
      ]
     },
     "execution_count": 20,
     "metadata": {},
     "output_type": "execute_result"
    }
   ],
   "source": [
    "{key:value*usd_to_rs for key,value in price.items()}"
   ]
  },
  {
   "cell_type": "code",
   "execution_count": 22,
   "id": "bd1d9054",
   "metadata": {},
   "outputs": [],
   "source": [
    "y={\"Ross\":23,\"Monica\":34,\"Joe\":26,\"Racheal\":33}"
   ]
  },
  {
   "cell_type": "code",
   "execution_count": 32,
   "id": "3d2a6519",
   "metadata": {
    "scrolled": true
   },
   "outputs": [
    {
     "data": {
      "text/plain": [
       "{'Monica': 34, 'Joe': 26}"
      ]
     },
     "execution_count": 32,
     "metadata": {},
     "output_type": "execute_result"
    }
   ],
   "source": [
    "{name:age for name,age in y.items() if age%2==0 }"
   ]
  },
  {
   "cell_type": "code",
   "execution_count": null,
   "id": "e2e60486",
   "metadata": {},
   "outputs": [],
   "source": []
  }
 ],
 "metadata": {
  "kernelspec": {
   "display_name": "Python 3 (ipykernel)",
   "language": "python",
   "name": "python3"
  },
  "language_info": {
   "codemirror_mode": {
    "name": "ipython",
    "version": 3
   },
   "file_extension": ".py",
   "mimetype": "text/x-python",
   "name": "python",
   "nbconvert_exporter": "python",
   "pygments_lexer": "ipython3",
   "version": "3.9.12"
  }
 },
 "nbformat": 4,
 "nbformat_minor": 5
}
