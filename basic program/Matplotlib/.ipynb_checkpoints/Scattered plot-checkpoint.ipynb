{
 "cells": [
  {
   "cell_type": "code",
   "execution_count": 5,
   "id": "86605a41",
   "metadata": {},
   "outputs": [],
   "source": [
    "import matplotlib.pyplot as plt\n",
    "import numpy as np"
   ]
  },
  {
   "cell_type": "code",
   "execution_count": 8,
   "id": "d546260d",
   "metadata": {
    "scrolled": true
   },
   "outputs": [],
   "source": [
    "x=np.array([1.4,3.34,3.5,2.5,1.9,8.2])\n",
    "y=np.array([1.5,5.3,1.3,2.4,1.3,2.4])"
   ]
  },
  {
   "cell_type": "code",
   "execution_count": 9,
   "id": "6247f1f1",
   "metadata": {},
   "outputs": [
    {
     "data": {
      "text/plain": [
       "<matplotlib.collections.PathCollection at 0x1f37793dfa0>"
      ]
     },
     "execution_count": 9,
     "metadata": {},
     "output_type": "execute_result"
    },
    {
     "data": {
      "image/png": "[encoded data removed]",
      "text/plain": [
       "<Figure size 432x288 with 1 Axes>"
      ]
     },
     "metadata": {
      "needs_background": "light"
     },
     "output_type": "display_data"
    }
   ],
   "source": [
    "plt.scatter(x,y)"
   ]
  },
  {
   "cell_type": "code",
   "execution_count": 13,
   "id": "f20875a5",
   "metadata": {},
   "outputs": [
    {
     "data": {
      "image/png": "[encoded data removed]",
      "text/plain": [
       "<Figure size 432x288 with 1 Axes>"
      ]
     },
     "metadata": {
      "needs_background": "light"
     },
     "output_type": "display_data"
    },
    {
     "data": {
      "image/png": "[encoded data removed]",
      "text/plain": [
       "<Figure size 432x288 with 1 Axes>"
      ]
     },
     "metadata": {
      "needs_background": "light"
     },
     "output_type": "display_data"
    }
   ],
   "source": [
    "s=np.array([1,2,3,4,7])\n",
    "p=np.array([3,2,6,1,2])\n",
    "plt.subplot(2,1,1)\n",
    "plt.scatter(s,p)\n",
    "plt.title(\"Plot 1\")\n",
    "plt.show()\n",
    "\n",
    "x=np.array([1.4,3.34,3.5,2.5,1.9,8.2])\n",
    "y=np.array([1.5,5.3,1.3,2.4,1.3,2.4])\n",
    "plt.subplot(2,1,1)\n",
    "plt.scatter(x,y)\n",
    "plt.title(\"Plot 2\")\n",
    "plt.show()\n"
   ]
  },
  {
   "cell_type": "code",
   "execution_count": null,
   "id": "0ca29ab3",
   "metadata": {},
   "outputs": [],
   "source": []
  }
 ],
 "metadata": {
  "kernelspec": {
   "display_name": "Python 3 (ipykernel)",
   "language": "python",
   "name": "python3"
  },
  "language_info": {
   "codemirror_mode": {
    "name": "ipython",
    "version": 3
   },
   "file_extension": ".py",
   "mimetype": "text/x-python",
   "name": "python",
   "nbconvert_exporter": "python",
   "pygments_lexer": "ipython3",
   "version": "3.9.12"
  }
 },
 "nbformat": 4,
 "nbformat_minor": 5
}
