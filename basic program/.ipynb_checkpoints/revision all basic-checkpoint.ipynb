{
 "cells": [
  {
   "cell_type": "markdown",
   "id": "3f660453",
   "metadata": {},
   "source": [
    "# WAP to input integer and add 10 to it and print it ."
   ]
  },
  {
   "cell_type": "code",
   "execution_count": 1,
   "id": "c16e50f1",
   "metadata": {},
   "outputs": [
    {
     "name": "stdout",
     "output_type": "stream",
     "text": [
      "Enter a integer number : 2\n",
      "The new integer is 12\n"
     ]
    }
   ],
   "source": [
    "a=int(input(\"Enter a integer number : \"))\n",
    "b=a+10\n",
    "print(f\"The new integer is {b}\")"
   ]
  },
  {
   "cell_type": "markdown",
   "id": "7ed2be03",
   "metadata": {},
   "source": [
    "# WAP to input string and concatenate another string"
   ]
  },
  {
   "cell_type": "code",
   "execution_count": 2,
   "id": "e6a896ba",
   "metadata": {},
   "outputs": [
    {
     "name": "stdout",
     "output_type": "stream",
     "text": [
      "Enter a string : dev\n",
      "The new string is  Hello! dev.\n"
     ]
    }
   ],
   "source": [
    "c=input(\"Enter a string : \")\n",
    "d=\" Hello! \"+c\n",
    "print(f\"The new string is {d}.\")"
   ]
  },
  {
   "cell_type": "markdown",
   "id": "c9f23f13",
   "metadata": {},
   "source": [
    "# WAP to find sum of two numbers. Use input() function to take input from the user"
   ]
  },
  {
   "cell_type": "code",
   "execution_count": null,
   "id": "50999045",
   "metadata": {},
   "outputs": [],
   "source": [
    "e=(input(\"Enter a integer number : \"))\n",
    "f=(input(\"Enter a integer number : \"))\n",
    "print(e+f)\n",
    "g=int(e)\n",
    "h=int(f)\n",
    "print(g+h)"
   ]
  },
  {
   "cell_type": "code",
   "execution_count": null,
   "id": "e4281333",
   "metadata": {},
   "outputs": [],
   "source": [
    "s=(input(\"Enter a integer number : \"))\n",
    "j=[i.lower() for i in s.split()]\n",
    "k=tuple(i.lower() for i in s.split())"
   ]
  },
  {
   "cell_type": "code",
   "execution_count": null,
   "id": "5b123df6",
   "metadata": {},
   "outputs": [],
   "source": [
    "print(j)\n",
    "print(k)\n",
    "print(j[1])"
   ]
  },
  {
   "cell_type": "markdown",
   "id": "976fd1fa",
   "metadata": {},
   "source": [
    "# WAP a program to find sum and average of 10 number stored in a list . Take 10 numbers input from the user and store it to the list"
   ]
  },
  {
   "cell_type": "code",
   "execution_count": 9,
   "id": "5e404df0",
   "metadata": {},
   "outputs": [
    {
     "ename": "IndexError",
     "evalue": "list index out of range",
     "output_type": "error",
     "traceback": [
      "\u001b[1;31m---------------------------------------------------------------------------\u001b[0m",
      "\u001b[1;31mIndexError\u001b[0m                                Traceback (most recent call last)",
      "Input \u001b[1;32mIn [9]\u001b[0m, in \u001b[0;36m<cell line: 4>\u001b[1;34m()\u001b[0m\n\u001b[0;32m      3\u001b[0m val\u001b[38;5;241m=\u001b[39m[]\n\u001b[0;32m      4\u001b[0m \u001b[38;5;28;01mfor\u001b[39;00m i \u001b[38;5;129;01min\u001b[39;00m \u001b[38;5;28mrange\u001b[39m(\u001b[38;5;241m0\u001b[39m,\u001b[38;5;241m10\u001b[39m):\n\u001b[1;32m----> 5\u001b[0m     \u001b[43mval\u001b[49m\u001b[43m[\u001b[49m\u001b[43mi\u001b[49m\u001b[43m]\u001b[49m\u001b[38;5;241m.\u001b[39mappend(\u001b[38;5;28mint\u001b[39m(\u001b[38;5;28minput\u001b[39m(\u001b[38;5;124mf\u001b[39m\u001b[38;5;124m\"\u001b[39m\u001b[38;5;124mEnter a \u001b[39m\u001b[38;5;132;01m{\u001b[39;00mi\u001b[38;5;241m+\u001b[39m\u001b[38;5;241m1\u001b[39m\u001b[38;5;132;01m}\u001b[39;00m\u001b[38;5;124m number : \u001b[39m\u001b[38;5;124m\"\u001b[39m)))\n\u001b[0;32m      6\u001b[0m     \u001b[38;5;28msum\u001b[39m\u001b[38;5;241m=\u001b[39m\u001b[38;5;28msum\u001b[39m\u001b[38;5;241m+\u001b[39mval[i]\n\u001b[0;32m      7\u001b[0m \u001b[38;5;28mprint\u001b[39m(\u001b[38;5;124mf\u001b[39m\u001b[38;5;124m\"\u001b[39m\u001b[38;5;124mThe sum is \u001b[39m\u001b[38;5;132;01m{\u001b[39;00m\u001b[38;5;28msum\u001b[39m\u001b[38;5;132;01m}\u001b[39;00m\u001b[38;5;124m\"\u001b[39m)\n",
      "\u001b[1;31mIndexError\u001b[0m: list index out of range"
     ]
    }
   ],
   "source": [
    "i=0\n",
    "sum=0\n",
    "val=[]\n",
    "for i in range(0,10):\n",
    "    val[i].append(int(input(f\"Enter a {i+1} number : \")))\n",
    "    sum=sum+val[i]\n",
    "print(f\"The sum is {sum}\")    "
   ]
  }
 ],
 "metadata": {
  "kernelspec": {
   "display_name": "Python 3 (ipykernel)",
   "language": "python",
   "name": "python3"
  },
  "language_info": {
   "codemirror_mode": {
    "name": "ipython",
    "version": 3
   },
   "file_extension": ".py",
   "mimetype": "text/x-python",
   "name": "python",
   "nbconvert_exporter": "python",
   "pygments_lexer": "ipython3",
   "version": "3.9.12"
  }
 },
 "nbformat": 4,
 "nbformat_minor": 5
}
