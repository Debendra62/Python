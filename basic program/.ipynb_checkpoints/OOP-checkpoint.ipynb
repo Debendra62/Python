{
 "cells": [
  {
   "cell_type": "code",
   "execution_count": 8,
   "id": "46ab5cc0",
   "metadata": {},
   "outputs": [],
   "source": [
    "class Parrot:\n",
    "    color=\"blue\"\n",
    "    age=2"
   ]
  },
  {
   "cell_type": "code",
   "execution_count": 9,
   "id": "496c38a1",
   "metadata": {},
   "outputs": [],
   "source": [
    "blu=Parrot()"
   ]
  },
  {
   "cell_type": "code",
   "execution_count": 10,
   "id": "60b71de4",
   "metadata": {},
   "outputs": [],
   "source": [
    "blu.color=\"brown\""
   ]
  },
  {
   "cell_type": "code",
   "execution_count": 11,
   "id": "01a710dc",
   "metadata": {},
   "outputs": [
    {
     "data": {
      "text/plain": [
       "'brown'"
      ]
     },
     "execution_count": 11,
     "metadata": {},
     "output_type": "execute_result"
    }
   ],
   "source": [
    "blu.color"
   ]
  },
  {
   "cell_type": "code",
   "execution_count": 27,
   "id": "23710341",
   "metadata": {},
   "outputs": [],
   "source": [
    "class Dog:\n",
    "    def __init__(self,color,age):\n",
    "        self.color=color\n",
    "        self.age=age\n",
    "        \n",
    "    def info(self):\n",
    "        print(f\"Dog color is {self.color} and age is {self.age}.\")\n",
    "        \n",
    "    def ageDouble(self,age):\n",
    "        self.age=age*2\n",
    "        print(self.age)"
   ]
  },
  {
   "cell_type": "code",
   "execution_count": 28,
   "id": "8fdb8ba1",
   "metadata": {},
   "outputs": [],
   "source": [
    "blu=Dog(\"Black\",3)"
   ]
  },
  {
   "cell_type": "code",
   "execution_count": 29,
   "id": "9ca22882",
   "metadata": {},
   "outputs": [
    {
     "name": "stdout",
     "output_type": "stream",
     "text": [
      "Dog color is Black and age is 3.\n"
     ]
    }
   ],
   "source": [
    "blu.info()"
   ]
  },
  {
   "cell_type": "code",
   "execution_count": 30,
   "id": "cc4c4cae",
   "metadata": {},
   "outputs": [
    {
     "name": "stdout",
     "output_type": "stream",
     "text": [
      "6\n"
     ]
    }
   ],
   "source": [
    "blu.ageDouble(3)"
   ]
  },
  {
   "cell_type": "markdown",
   "id": "5dd9c851",
   "metadata": {},
   "source": [
    "## Inheritance"
   ]
  },
  {
   "cell_type": "code",
   "execution_count": 44,
   "id": "c3895c42",
   "metadata": {},
   "outputs": [],
   "source": [
    "class Bird:\n",
    "    def __init__(self):\n",
    "        print(\"Class is bird.\")\n",
    "        \n",
    "    def fly(self):\n",
    "        print(\"Bird can fly.\")\n",
    "        \n",
    "class Parrot(Bird):\n",
    "    def __init__(self):\n",
    "        print(\"Parrot is the class .\")\n",
    "        super().__init__()\n",
    "\n",
    "class Hen(Bird):\n",
    "    pass"
   ]
  },
  {
   "cell_type": "code",
   "execution_count": 45,
   "id": "e6c83778",
   "metadata": {},
   "outputs": [
    {
     "name": "stdout",
     "output_type": "stream",
     "text": [
      "Parrot is the class .\n",
      "Class is bird.\n",
      "Bird can fly.\n"
     ]
    }
   ],
   "source": [
    "woo=Parrot()\n",
    "woo.fly()"
   ]
  },
  {
   "cell_type": "markdown",
   "id": "22762e31",
   "metadata": {},
   "source": [
    "## Setter"
   ]
  },
  {
   "cell_type": "code",
   "execution_count": 60,
   "id": "e35f332d",
   "metadata": {},
   "outputs": [],
   "source": [
    "class Computer:\n",
    "    def __init__(self):\n",
    "        self.__maxprice=20000\n",
    "        \n",
    "    def info(self):\n",
    "        print(f\"Maxprice: {self.__maxprice}\")\n",
    "        \n",
    "    def setMaxPrice(self,price):\n",
    "        self.__maxprice=price"
   ]
  },
  {
   "cell_type": "code",
   "execution_count": 67,
   "id": "0bec1698",
   "metadata": {},
   "outputs": [
    {
     "name": "stdout",
     "output_type": "stream",
     "text": [
      "Maxprice: 20000\n",
      "Maxprice: 30000\n"
     ]
    }
   ],
   "source": [
    "legion=Computer()\n",
    "legion.info()\n",
    "legion.setMaxPrice(30000)\n",
    "legion.info()"
   ]
  },
  {
   "cell_type": "markdown",
   "id": "89567d5d",
   "metadata": {},
   "source": [
    "## Polymorphism"
   ]
  },
  {
   "cell_type": "code",
   "execution_count": 76,
   "id": "de87e982",
   "metadata": {},
   "outputs": [],
   "source": [
    "class Penguin:\n",
    "    def fly(self):\n",
    "        print(\"Penguin can fly.\")\n",
    "        \n",
    "class Parrot:\n",
    "    def fly(self):\n",
    "        print(\"Parrot can fly\")\n",
    "        \n",
    "#interface\n",
    "def flying(obj):\n",
    "    obj.fly()"
   ]
  },
  {
   "cell_type": "code",
   "execution_count": 79,
   "id": "374644b7",
   "metadata": {},
   "outputs": [
    {
     "name": "stdout",
     "output_type": "stream",
     "text": [
      "Penguin can fly.\n",
      "Parrot can fly\n"
     ]
    }
   ],
   "source": [
    "pen=Penguin()\n",
    "flying(pen)\n",
    "par=Parrot()\n",
    "flying(par)"
   ]
  },
  {
   "cell_type": "code",
   "execution_count": null,
   "id": "87d7cd96",
   "metadata": {},
   "outputs": [],
   "source": []
  }
 ],
 "metadata": {
  "kernelspec": {
   "display_name": "Python 3 (ipykernel)",
   "language": "python",
   "name": "python3"
  },
  "language_info": {
   "codemirror_mode": {
    "name": "ipython",
    "version": 3
   },
   "file_extension": ".py",
   "mimetype": "text/x-python",
   "name": "python",
   "nbconvert_exporter": "python",
   "pygments_lexer": "ipython3",
   "version": "3.9.12"
  }
 },
 "nbformat": 4,
 "nbformat_minor": 5
}
