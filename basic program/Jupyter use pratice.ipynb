{
 "cells": [
  {
   "cell_type": "markdown",
   "id": "77ab3618",
   "metadata": {},
   "source": [
    "# Blue(command mode)\n",
    "# Green(code mode)\n",
    "# Ctrl +enter = run code\n",
    "# X = Delete cell\n",
    "# B = below add cell\n",
    "# A = Above add cell\n",
    "# \"\"     \"\"= Bold sentence\n",
    "# \"         \"=Italic sentence\n",
    "# \"\"\"   \"\"\"=both bold and italic\n"
   ]
  },
  {
   "cell_type": "markdown",
   "id": "d6299c82",
   "metadata": {},
   "source": [
    "# latex for mathmatical equation = $ e^{i\\pi}+1=0 $"
   ]
  },
  {
   "cell_type": "markdown",
   "id": "ee4f9c71",
   "metadata": {},
   "source": [
    "# Matrix\n",
    "$\\begin{bmatrix} \n",
    "4 & 2  \\\\\n",
    "3 & 6  \\\\\n",
    "1 & 8\n",
    "\\end{bmatrix}$\n",
    "\n",
    "$$\\begin{bmatrix} \n",
    "4 & 2  \\\\\n",
    "3 & 6  \\\\\n",
    "1 & 8\n",
    "\\end{bmatrix}$$"
   ]
  },
  {
   "cell_type": "code",
   "execution_count": 7,
   "id": "1a28b030",
   "metadata": {},
   "outputs": [
    {
     "name": "stdout",
     "output_type": "stream",
     "text": [
      "1\n",
      "2\n",
      "3\n",
      "4\n",
      "5\n",
      "6\n",
      "7\n",
      "8\n",
      "9\n"
     ]
    }
   ],
   "source": [
    "for i in range(1,10):\n",
    "    print(i)"
   ]
  },
  {
   "cell_type": "code",
   "execution_count": 8,
   "id": "6a8793a0",
   "metadata": {},
   "outputs": [
    {
     "name": "stdout",
     "output_type": "stream",
     "text": [
      "Enter your name: Dev\n",
      "Your name is Dev\n"
     ]
    }
   ],
   "source": [
    "name=input(\"Enter your name: \")\n",
    "print(f\"Your name is {name}\")"
   ]
  },
  {
   "cell_type": "code",
   "execution_count": 1,
   "id": "aa582911",
   "metadata": {},
   "outputs": [
    {
     "name": "stdout",
     "output_type": "stream",
     "text": [
      "hello world from dev\n"
     ]
    }
   ],
   "source": [
    "print(\"hello world from dev\")"
   ]
  },
  {
   "cell_type": "code",
   "execution_count": null,
   "id": "ceae89df",
   "metadata": {},
   "outputs": [],
   "source": []
  }
 ],
 "metadata": {
  "kernelspec": {
   "display_name": "Python 3 (ipykernel)",
   "language": "python",
   "name": "python3"
  },
  "language_info": {
   "codemirror_mode": {
    "name": "ipython",
    "version": 3
   },
   "file_extension": ".py",
   "mimetype": "text/x-python",
   "name": "python",
   "nbconvert_exporter": "python",
   "pygments_lexer": "ipython3",
   "version": "3.9.12"
  }
 },
 "nbformat": 4,
 "nbformat_minor": 5
}
