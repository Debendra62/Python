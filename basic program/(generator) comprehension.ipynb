{
 "cells": [
  {
   "cell_type": "markdown",
   "id": "a18ad7b4",
   "metadata": {},
   "source": [
    "# generator comprehension"
   ]
  },
  {
   "cell_type": "code",
   "execution_count": 7,
   "id": "ef298985",
   "metadata": {},
   "outputs": [],
   "source": [
    "result=(i for i in range(101) if (i%2==0 and i%5==0))"
   ]
  },
  {
   "cell_type": "code",
   "execution_count": 18,
   "id": "8a59b1ff",
   "metadata": {},
   "outputs": [],
   "source": [
    "for i in result:\n",
    "    print(i)"
   ]
  },
  {
   "cell_type": "code",
   "execution_count": 19,
   "id": "78df2802",
   "metadata": {},
   "outputs": [
    {
     "name": "stdout",
     "output_type": "stream",
     "text": [
      "LC: 920 \n",
      "GC: 112 \n"
     ]
    }
   ],
   "source": [
    "import sys\n",
    "#LC\n",
    "l = [i for i in range(100)]\n",
    "\n",
    "#GC\n",
    "g = (i for i in range(100))\n",
    "\n",
    "print(f\"LC: {sys.getsizeof(l)} \")\n",
    "print(f\"GC: {sys.getsizeof(g)} \")"
   ]
  },
  {
   "cell_type": "code",
   "execution_count": null,
   "id": "6de26957",
   "metadata": {},
   "outputs": [],
   "source": []
  }
 ],
 "metadata": {
  "kernelspec": {
   "display_name": "Python 3 (ipykernel)",
   "language": "python",
   "name": "python3"
  },
  "language_info": {
   "codemirror_mode": {
    "name": "ipython",
    "version": 3
   },
   "file_extension": ".py",
   "mimetype": "text/x-python",
   "name": "python",
   "nbconvert_exporter": "python",
   "pygments_lexer": "ipython3",
   "version": "3.9.12"
  }
 },
 "nbformat": 4,
 "nbformat_minor": 5
}
