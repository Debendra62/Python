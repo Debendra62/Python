{
 "cells": [
  {
   "cell_type": "markdown",
   "id": "0cf18c30",
   "metadata": {},
   "source": [
    "# Basic"
   ]
  },
  {
   "cell_type": "code",
   "execution_count": 11,
   "id": "6768ae80",
   "metadata": {},
   "outputs": [
    {
     "name": "stdout",
     "output_type": "stream",
     "text": [
      "hello\n",
      "<class 'function'>\n",
      "True\n"
     ]
    }
   ],
   "source": [
    "def first(msg):\n",
    "    print(msg)\n",
    "second=first\n",
    "second(\"hello\")\n",
    "print(type(second))    \n",
    "print(first is second)"
   ]
  },
  {
   "cell_type": "code",
   "execution_count": 2,
   "id": "0ce5dc35",
   "metadata": {},
   "outputs": [
    {
     "name": "stdout",
     "output_type": "stream",
     "text": [
      "6\n",
      "4\n"
     ]
    }
   ],
   "source": [
    "def inc(x):\n",
    "    return x+1\n",
    "def dec(x):\n",
    "    return x-1\n",
    "\n",
    "def operate(func,x):\n",
    "    result=func(x)\n",
    "    return result\n",
    "\n",
    "print(operate(inc,5))\n",
    "print(operate(dec,5))"
   ]
  },
  {
   "cell_type": "code",
   "execution_count": 13,
   "id": "ca73ba1a",
   "metadata": {
    "scrolled": true
   },
   "outputs": [
    {
     "name": "stdout",
     "output_type": "stream",
     "text": [
      "Hi\n"
     ]
    }
   ],
   "source": [
    "def outer():\n",
    "    print(\"Hi\")\n",
    "    def inner():\n",
    "        print(\"hello\")\n",
    "    return inner\n",
    "\n",
    "new=outer()   "
   ]
  },
  {
   "cell_type": "code",
   "execution_count": 4,
   "id": "735c5ba2",
   "metadata": {},
   "outputs": [
    {
     "name": "stdout",
     "output_type": "stream",
     "text": [
      "Hi\n",
      "hello\n"
     ]
    }
   ],
   "source": [
    "new=outer()\n",
    "new()  "
   ]
  },
  {
   "cell_type": "markdown",
   "id": "d9322c83",
   "metadata": {},
   "source": [
    "# Decorator"
   ]
  },
  {
   "cell_type": "code",
   "execution_count": 5,
   "id": "f46c9849",
   "metadata": {},
   "outputs": [],
   "source": [
    "def decorate(func):\n",
    "    def inner():\n",
    "        print(\"I am decorator\")\n",
    "        func()\n",
    "        \n",
    "    return inner \n",
    "\n",
    "@decorate\n",
    "def normal():\n",
    "    print(\"I am normal function\")"
   ]
  },
  {
   "cell_type": "code",
   "execution_count": 6,
   "id": "c87a9cea",
   "metadata": {},
   "outputs": [
    {
     "name": "stdout",
     "output_type": "stream",
     "text": [
      "I am decorator\n",
      "I am normal function\n"
     ]
    }
   ],
   "source": [
    "normal()"
   ]
  },
  {
   "cell_type": "markdown",
   "id": "6e368488",
   "metadata": {},
   "source": [
    "# Docarator used for divide"
   ]
  },
  {
   "cell_type": "code",
   "execution_count": 7,
   "id": "4bd66014",
   "metadata": {},
   "outputs": [],
   "source": [
    "def smart_divide(func):\n",
    "    def inner(a,b):\n",
    "        if b==0:\n",
    "            print(\"The value of b cannot be zero .\")\n",
    "            return\n",
    "        else:\n",
    "            func(a,b)\n",
    "    return inner\n",
    "\n",
    "@smart_divide\n",
    "def divide(a,b):\n",
    "    print(a/b)"
   ]
  },
  {
   "cell_type": "code",
   "execution_count": 8,
   "id": "74f048d4",
   "metadata": {},
   "outputs": [
    {
     "name": "stdout",
     "output_type": "stream",
     "text": [
      "The value of b cannot be zero .\n"
     ]
    }
   ],
   "source": [
    "divide(20,0)"
   ]
  },
  {
   "cell_type": "markdown",
   "id": "ee3056d7",
   "metadata": {},
   "source": [
    "# Fibon series"
   ]
  },
  {
   "cell_type": "code",
   "execution_count": 9,
   "id": "a8d24411",
   "metadata": {},
   "outputs": [
    {
     "data": {
      "text/plain": [
       "[0, 1, 1, 2, 3, 5, 8, 13, 21, 34]"
      ]
     },
     "execution_count": 9,
     "metadata": {},
     "output_type": "execute_result"
    }
   ],
   "source": [
    "def fib(n):\n",
    "    if n<=1:\n",
    "        return n\n",
    "    return fib(n-1)+fib(n-2)\n",
    "\n",
    "[fib(i) for i in range(10)]"
   ]
  },
  {
   "cell_type": "code",
   "execution_count": null,
   "id": "f5818979",
   "metadata": {},
   "outputs": [],
   "source": []
  }
 ],
 "metadata": {
  "kernelspec": {
   "display_name": "Python 3 (ipykernel)",
   "language": "python",
   "name": "python3"
  },
  "language_info": {
   "codemirror_mode": {
    "name": "ipython",
    "version": 3
   },
   "file_extension": ".py",
   "mimetype": "text/x-python",
   "name": "python",
   "nbconvert_exporter": "python",
   "pygments_lexer": "ipython3",
   "version": "3.9.12"
  }
 },
 "nbformat": 4,
 "nbformat_minor": 5
}
