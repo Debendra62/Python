{
 "cells": [
  {
   "cell_type": "markdown",
   "id": "ffc6d243",
   "metadata": {},
   "source": [
    "# 6)The flight ticket rates for a round-trip (Mumbai->Dubai) were as follows:\n",
    "\n",
    "Rate per Adult: Rs. 37550.0\n",
    "\n",
    "Rate per Child: 1/3rd of the rate per adult\n",
    "\n",
    "Service Tax: 7% of the ticket amount (including all passengers)\n",
    "\n",
    "As it was a holiday season, the airline also offered a 10% discount on the final ticket cost (after inclusion of the service tax).\n",
    "\n",
    "Find and display the total ticket cost for a group which had adults and children.\n"
   ]
  },
  {
   "cell_type": "code",
   "execution_count": 1,
   "id": "8058713a",
   "metadata": {},
   "outputs": [
    {
     "name": "stdout",
     "output_type": "stream",
     "text": [
      "The total cost after discound and tax is 48214.2\n"
     ]
    }
   ],
   "source": [
    "adult=37550\n",
    "child=adult/3\n",
    "child_include_tax=child+0.07*child\n",
    "child_include_tax_and_discount=child_include_tax-0.1*child_include_tax\n",
    "adult_include_tax=adult+0.07*adult\n",
    "adult_include_tax_and_discount=adult_include_tax-0.1*adult_include_tax\n",
    "total_cost=adult_include_tax_and_discount+child_include_tax_and_discount\n",
    "print(f\"The total cost after discound and tax is {total_cost}\")"
   ]
  },
  {
   "cell_type": "markdown",
   "id": "3e126b9b",
   "metadata": {},
   "source": [
    "# 7)  Write a python program that displays a message as follows for a given number:\n",
    "If it is a multiple of three, display \"Zip\"\n",
    "\n",
    "If it is a multiple of five, display \"Zap\".\n",
    "\n",
    "If it is a multiple of both three and five, display \"Zoom\".\n",
    "\n",
    "If it does not satisfy any of the above given conditions, display \"Invalid\".\n"
   ]
  },
  {
   "cell_type": "code",
   "execution_count": 10,
   "id": "ca4fae84",
   "metadata": {},
   "outputs": [
    {
     "name": "stdout",
     "output_type": "stream",
     "text": [
      "Enter a number : 11\n",
      "Invalid\n"
     ]
    }
   ],
   "source": [
    "num=int(input(\"Enter a number : \"))\n",
    "if num%3==0 and num%5!=0:\n",
    "    print(\"Zip\")\n",
    "elif num%3!=0 and num%5==0:\n",
    "    print(\"Zap\")\n",
    "elif num%3==0 and num%5==0:\n",
    "    print(\"Zoom\")\n",
    "else:\n",
    "    print(\"Invalid\")\n"
   ]
  },
  {
   "cell_type": "markdown",
   "id": "f743cf83",
   "metadata": {},
   "source": [
    "# 9) Write a python program to find and display the product of three positive integer values based on the rule mentioned below:\n",
    " \n",
    "It should display the product of the three values except when one of the integer value is 7. In that case, 7 should not be included in the product and the values to its left also should not be included.\n",
    "If there is only one value to be considered, display that value itself. If no values can be included in the product, display -1.\n"
   ]
  },
  {
   "cell_type": "code",
   "execution_count": 4,
   "id": "cc75b877",
   "metadata": {},
   "outputs": [
    {
     "name": "stdout",
     "output_type": "stream",
     "text": [
      "Enter the first number: 8\n",
      "Enter the second number: 2\n",
      "Enter the third number: 7\n",
      "The multiple is -1\n"
     ]
    }
   ],
   "source": [
    "num_1=int(input(\"Enter the first number: \"))\n",
    "num_2=int(input(\"Enter the second number: \"))\n",
    "num_3=int(input(\"Enter the third number: \"))\n",
    "if num_1!=7 and num_2!=7 and num_3!=7:\n",
    "    multiple=num_1*num_2*num_3\n",
    "    print(f\"The multiple is {multiple}\")\n",
    "elif num_1==7:\n",
    "    multiple=num_2*num_3\n",
    "    print(f\"The multiple is {multiple}\")\n",
    "elif num_2==7:\n",
    "    multiple=num_3\n",
    "    print(f\"The multiple is {multiple}\")\n",
    "elif num_3==7:\n",
    "    multiple=-1\n",
    "    print(f\"The multiple is {multiple}\")\n"
   ]
  },
  {
   "cell_type": "markdown",
   "id": "f265569f",
   "metadata": {},
   "source": [
    "# 10. You have x no. of 5 rupee coins and y no. of 1 rupee coins. You want to purchase an item for amount z. The shopkeeper wants you to provide exact change. You want to pay using minimum number of coins. How many 5 rupee coins and 1 rupee coins will you use? If exact change is not possible then display -1.\n"
   ]
  },
  {
   "cell_type": "code",
   "execution_count": 10,
   "id": "8d577d1d",
   "metadata": {},
   "outputs": [
    {
     "name": "stdout",
     "output_type": "stream",
     "text": [
      "Enter the number of 5 rupee coin you have: 5\n",
      "Enter the number of 1 rupee coin you have: 2\n",
      "Enter the purchase amount: 13\n",
      "2\n",
      "3\n",
      "Not posible\n",
      "-1\n"
     ]
    }
   ],
   "source": [
    "rupee_5=int(input(\"Enter the number of 5 rupee coin you have: \"))\n",
    "\n",
    "rupee_1=int(input(\"Enter the number of 1 rupee coin you have: \"))\n",
    "amount=int(input(\"Enter the purchase amount: \"))\n",
    "a=amount//5\n",
    "b=amount%5\n",
    "print(a)\n",
    "print(b)\n",
    "if a<=rupee_5 and b<=rupee_1:\n",
    "    print(f\"We can pay {a} five rupee coin and {b} one rupee coin.\")\n",
    "else:\n",
    "    print(\"Not posible\")\n",
    "    print(-1)"
   ]
  },
  {
   "cell_type": "code",
   "execution_count": null,
   "id": "3aa934a0",
   "metadata": {},
   "outputs": [],
   "source": []
  }
 ],
 "metadata": {
  "kernelspec": {
   "display_name": "Python 3 (ipykernel)",
   "language": "python",
   "name": "python3"
  },
  "language_info": {
   "codemirror_mode": {
    "name": "ipython",
    "version": 3
   },
   "file_extension": ".py",
   "mimetype": "text/x-python",
   "name": "python",
   "nbconvert_exporter": "python",
   "pygments_lexer": "ipython3",
   "version": "3.9.12"
  }
 },
 "nbformat": 4,
 "nbformat_minor": 5
}
