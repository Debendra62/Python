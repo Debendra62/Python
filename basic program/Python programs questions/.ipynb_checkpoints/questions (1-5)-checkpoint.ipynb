{
 "cells": [
  {
   "cell_type": "markdown",
   "id": "a4a13841",
   "metadata": {},
   "source": [
    "# 1) Write a code to find the minimum among three given numbers."
   ]
  },
  {
   "cell_type": "code",
   "execution_count": null,
   "id": "08599835",
   "metadata": {},
   "outputs": [],
   "source": [
    "num_1=int(input(\"Enter the first number: \"))\n",
    "num_2=int(input(\"Enter the second number: \"))\n",
    "num_3=int(input(\"Enter the third number: \"))\n",
    "if num_1<num_2 and num_1<num_3:\n",
    "    print(f\"{num_1} is the smallest among the given inputs.\")\n",
    "elif num_2<num_3 and num_2<num_1:\n",
    "        print(f\"{num_2} is the smallest among the given inputs.\")\n",
    "else:\n",
    "        print(f\"{num_3} is the smallest among the given inputs.\")\n",
    "\n",
    "\n",
    "    "
   ]
  },
  {
   "cell_type": "markdown",
   "id": "4f692fea",
   "metadata": {},
   "source": [
    "# 2) Write a code to check whether a given number is a palindrome."
   ]
  },
  {
   "cell_type": "code",
   "execution_count": 3,
   "id": "d87e530f",
   "metadata": {},
   "outputs": [
    {
     "name": "stdout",
     "output_type": "stream",
     "text": [
      "Enter the number: 56\n"
     ]
    },
    {
     "ename": "TypeError",
     "evalue": "'str' object does not support item assignment",
     "output_type": "error",
     "traceback": [
      "\u001b[1;31m---------------------------------------------------------------------------\u001b[0m",
      "\u001b[1;31mTypeError\u001b[0m                                 Traceback (most recent call last)",
      "Input \u001b[1;32mIn [3]\u001b[0m, in \u001b[0;36m<cell line: 5>\u001b[1;34m()\u001b[0m\n\u001b[0;32m      4\u001b[0m num_2\n\u001b[0;32m      5\u001b[0m \u001b[38;5;28;01mfor\u001b[39;00m i \u001b[38;5;129;01min\u001b[39;00m num:\n\u001b[1;32m----> 6\u001b[0m     num_2[j]\u001b[38;5;241m=\u001b[39mnum[j]\n\u001b[0;32m      7\u001b[0m     j\u001b[38;5;241m=\u001b[39mj\u001b[38;5;241m+\u001b[39m\u001b[38;5;241m1\u001b[39m\n\u001b[0;32m      8\u001b[0m     k\u001b[38;5;241m=\u001b[39mk\u001b[38;5;241m-\u001b[39m\u001b[38;5;241m1\u001b[39m\n",
      "\u001b[1;31mTypeError\u001b[0m: 'str' object does not support item assignment"
     ]
    }
   ],
   "source": [
    "num=(input(\"Enter the number: \"))\n",
    "j=0\n",
    "k=-1\n",
    "num_2\n",
    "for i in num:\n",
    "    num_2[j]=num[j]\n",
    "    j=j+1\n",
    "    k=k-1\n",
    "    \n",
    "print(num_2)"
   ]
  },
  {
   "cell_type": "markdown",
   "id": "c60cae7e",
   "metadata": {},
   "source": [
    "# 3) Write a code to find the sum of numbers divisible by 4.The code must allow the user to accept a number and add it to the sum if it is divisible by 4. It should continue accepting numbers as long as the user wants to provide an input and should display the final sum."
   ]
  },
  {
   "cell_type": "code",
   "execution_count": 2,
   "id": "5e2fe7a3",
   "metadata": {},
   "outputs": [
    {
     "name": "stdout",
     "output_type": "stream",
     "text": [
      "Enter a number: 4\n",
      "If you want to add number than enter y: 8\n",
      "\n",
      "The total sum of number divisible by 4 is 4.\n"
     ]
    }
   ],
   "source": [
    "sum=0\n",
    "data_1=\"y\"\n",
    "while(data_1==\"y\" or data_1==\"Y\"):\n",
    "    num_1=int(input(\"Enter a number: \"))\n",
    "    if(num_1%4==0):\n",
    "        sum=sum+num_1\n",
    "    data_1=input(\"If you want to add number than enter y: \")\n",
    "    \n",
    "print()    \n",
    "print(f\"The total sum of number divisible by 4 is {sum}.\")    \n",
    "    \n",
    "    "
   ]
  },
  {
   "cell_type": "markdown",
   "id": "9daaf84a",
   "metadata": {},
   "source": [
    "## 4) A three digit number is said to be an “Armstrong number” if the sum of the third power of its individual digits is equal to the number itself.Write a program to check whether a number is armstrong or not.  "
   ]
  },
  {
   "cell_type": "code",
   "execution_count": 17,
   "id": "e0588900",
   "metadata": {},
   "outputs": [
    {
     "name": "stdout",
     "output_type": "stream",
     "text": [
      "Enter the number you want to check armstrong or not: 153\n",
      "27\n",
      "152\n",
      "153\n",
      "The given number 153 is Armstrong number .\n"
     ]
    }
   ],
   "source": [
    "num_1=int(input(\"Enter the number you want to check armstrong or not: \"))\n",
    "num_2=num_1\n",
    "num_3=0\n",
    "while(num_2!=0):\n",
    "    num_3=num_3+(num_2%10)**3\n",
    "    num_2=num_2//10\n",
    "if(num_1==num_3):\n",
    "    print(f\"The given number {num_1} is Armstrong number .\")\n",
    "else:\n",
    "    print(\"It is not an Armstrong number.\")"
   ]
  },
  {
   "cell_type": "code",
   "execution_count": null,
   "id": "f1f9c263",
   "metadata": {},
   "outputs": [],
   "source": []
  }
 ],
 "metadata": {
  "kernelspec": {
   "display_name": "Python 3 (ipykernel)",
   "language": "python",
   "name": "python3"
  },
  "language_info": {
   "codemirror_mode": {
    "name": "ipython",
    "version": 3
   },
   "file_extension": ".py",
   "mimetype": "text/x-python",
   "name": "python",
   "nbconvert_exporter": "python",
   "pygments_lexer": "ipython3",
   "version": "3.9.12"
  }
 },
 "nbformat": 4,
 "nbformat_minor": 5
}
