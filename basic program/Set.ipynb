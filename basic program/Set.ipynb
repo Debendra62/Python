{
 "cells": [
  {
   "cell_type": "markdown",
   "id": "3b99eaaa",
   "metadata": {},
   "source": [
    "# Set (Unordered , Unchangeable, No duplicate )"
   ]
  },
  {
   "cell_type": "code",
   "execution_count": 51,
   "id": "02e04814",
   "metadata": {},
   "outputs": [
    {
     "name": "stdout",
     "output_type": "stream",
     "text": [
      "<class 'dict'>\n",
      "<class 'set'>\n",
      "{True, 2, 'HI', 4, 'Bye'}\n"
     ]
    }
   ],
   "source": [
    "b={}\n",
    "print(type(b))\n",
    "a={2,\"HI\",\"Bye\",True,2,4}\n",
    "print(type(a))\n",
    "print(a)"
   ]
  },
  {
   "cell_type": "markdown",
   "id": "6e11ca7c",
   "metadata": {},
   "source": [
    "### add( To add element )"
   ]
  },
  {
   "cell_type": "code",
   "execution_count": 52,
   "id": "f880f756",
   "metadata": {},
   "outputs": [
    {
     "name": "stdout",
     "output_type": "stream",
     "text": [
      "{True, 2, 'HI', 4, 'Bye', 'apple'}\n"
     ]
    }
   ],
   "source": [
    "a.add(\"apple\")\n",
    "print(a)"
   ]
  },
  {
   "cell_type": "markdown",
   "id": "7e2d9d3b",
   "metadata": {},
   "source": [
    "### update( to add more than 1 value to set )"
   ]
  },
  {
   "cell_type": "code",
   "execution_count": 53,
   "id": "6cbc22eb",
   "metadata": {},
   "outputs": [
    {
     "name": "stdout",
     "output_type": "stream",
     "text": [
      "{True, 2, 'HI', 4, 6, 7, 'Bye', 'apple'}\n"
     ]
    }
   ],
   "source": [
    "a.update({6,7})\n",
    "print(a)"
   ]
  },
  {
   "cell_type": "markdown",
   "id": "3a1679c0",
   "metadata": {},
   "source": [
    "### clear=set value delete all\n",
    "### del=value and set is also deleted"
   ]
  },
  {
   "cell_type": "code",
   "execution_count": 54,
   "id": "151b47a1",
   "metadata": {},
   "outputs": [],
   "source": [
    "del(a)"
   ]
  },
  {
   "cell_type": "markdown",
   "id": "a2d7d7ce",
   "metadata": {},
   "source": [
    "## Union ,Intersection and Difference"
   ]
  },
  {
   "cell_type": "code",
   "execution_count": 55,
   "id": "c06d1f9a",
   "metadata": {},
   "outputs": [],
   "source": [
    "A={1,2,3,4}\n",
    "B={3,4,5,6}"
   ]
  },
  {
   "cell_type": "code",
   "execution_count": 56,
   "id": "0b95205d",
   "metadata": {},
   "outputs": [
    {
     "data": {
      "text/plain": [
       "{1, 2, 3, 4, 5, 6}"
      ]
     },
     "execution_count": 56,
     "metadata": {},
     "output_type": "execute_result"
    }
   ],
   "source": [
    "A.union(B)"
   ]
  },
  {
   "cell_type": "code",
   "execution_count": 57,
   "id": "6659b4cc",
   "metadata": {},
   "outputs": [
    {
     "data": {
      "text/plain": [
       "{3, 4}"
      ]
     },
     "execution_count": 57,
     "metadata": {},
     "output_type": "execute_result"
    }
   ],
   "source": [
    "A.intersection(B)   "
   ]
  },
  {
   "cell_type": "code",
   "execution_count": 63,
   "id": "01be89d1",
   "metadata": {},
   "outputs": [
    {
     "data": {
      "text/plain": [
       "{1, 2}"
      ]
     },
     "execution_count": 63,
     "metadata": {},
     "output_type": "execute_result"
    }
   ],
   "source": [
    "A.difference(B)     # A-B"
   ]
  },
  {
   "cell_type": "code",
   "execution_count": 64,
   "id": "9765343b",
   "metadata": {},
   "outputs": [
    {
     "data": {
      "text/plain": [
       "{5, 6}"
      ]
     },
     "execution_count": 64,
     "metadata": {},
     "output_type": "execute_result"
    }
   ],
   "source": [
    "B.difference(A)     # B-A"
   ]
  },
  {
   "cell_type": "markdown",
   "id": "23518d02",
   "metadata": {},
   "source": [
    "### Set comprehension"
   ]
  },
  {
   "cell_type": "code",
   "execution_count": 66,
   "id": "8584d66c",
   "metadata": {},
   "outputs": [
    {
     "data": {
      "text/plain": [
       "{0, 2, 4, 6, 8, 10}"
      ]
     },
     "execution_count": 66,
     "metadata": {},
     "output_type": "execute_result"
    }
   ],
   "source": [
    "{i for i in range(11) if i%2==0 }"
   ]
  }
 ],
 "metadata": {
  "kernelspec": {
   "display_name": "Python 3 (ipykernel)",
   "language": "python",
   "name": "python3"
  },
  "language_info": {
   "codemirror_mode": {
    "name": "ipython",
    "version": 3
   },
   "file_extension": ".py",
   "mimetype": "text/x-python",
   "name": "python",
   "nbconvert_exporter": "python",
   "pygments_lexer": "ipython3",
   "version": "3.9.12"
  }
 },
 "nbformat": 4,
 "nbformat_minor": 5
}
