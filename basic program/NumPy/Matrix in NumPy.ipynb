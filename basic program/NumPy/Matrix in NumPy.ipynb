{
 "cells": [
  {
   "cell_type": "code",
   "execution_count": 5,
   "id": "f9ffd330",
   "metadata": {},
   "outputs": [
    {
     "name": "stdout",
     "output_type": "stream",
     "text": [
      "<class 'numpy.matrix'>\n",
      "[[ 30  36  42]\n",
      " [ 66  81  96]\n",
      " [102 126 150]]\n",
      "[[ 30  36  42]\n",
      " [ 66  81  96]\n",
      " [102 126 150]]\n"
     ]
    }
   ],
   "source": [
    "import numpy as np\n",
    "var_1=np.matrix([[1,2,3],[4,5,6],[7,8,9]])\n",
    "var_2=np.matrix([[1,2,3],[4,5,6],[7,8,9]])\n",
    "\n",
    "print(type(var_1))\n",
    "var_3=var_1*var_2\n",
    "print(var_3)\n",
    "\n",
    "#OR\n",
    "\n",
    "print(var_1.dot(var_2))"
   ]
  },
  {
   "cell_type": "markdown",
   "id": "3451c38d",
   "metadata": {},
   "source": [
    "# Funtions of Matrix in numpy"
   ]
  },
  {
   "cell_type": "markdown",
   "id": "57ac5858",
   "metadata": {},
   "source": [
    "### 1) Transpose"
   ]
  },
  {
   "cell_type": "code",
   "execution_count": 6,
   "id": "40bf43e3",
   "metadata": {},
   "outputs": [
    {
     "name": "stdout",
     "output_type": "stream",
     "text": [
      "[[1 4]\n",
      " [2 5]\n",
      " [3 6]]\n"
     ]
    }
   ],
   "source": [
    "var=np.matrix([[1,2,3],[4,5,6]])\n",
    "print(np.transpose(var))"
   ]
  },
  {
   "cell_type": "code",
   "execution_count": 7,
   "id": "079a1b64",
   "metadata": {},
   "outputs": [
    {
     "name": "stdout",
     "output_type": "stream",
     "text": [
      "[[1 4]\n",
      " [2 5]\n",
      " [3 6]]\n"
     ]
    }
   ],
   "source": [
    "print(var.T)"
   ]
  },
  {
   "cell_type": "markdown",
   "id": "2c3e33d8",
   "metadata": {},
   "source": [
    "### 2) Swapaxes"
   ]
  },
  {
   "cell_type": "code",
   "execution_count": 11,
   "id": "963ef974",
   "metadata": {},
   "outputs": [
    {
     "name": "stdout",
     "output_type": "stream",
     "text": [
      "[[1 4]\n",
      " [2 5]\n",
      " [3 6]]\n"
     ]
    }
   ],
   "source": [
    "print(np.swapaxes(var,0,1))"
   ]
  },
  {
   "cell_type": "markdown",
   "id": "ab686ebe",
   "metadata": {},
   "source": [
    "### 3) Inverse"
   ]
  },
  {
   "cell_type": "code",
   "execution_count": null,
   "id": "28a5b30c",
   "metadata": {},
   "outputs": [],
   "source": []
  }
 ],
 "metadata": {
  "kernelspec": {
   "display_name": "Python 3 (ipykernel)",
   "language": "python",
   "name": "python3"
  },
  "language_info": {
   "codemirror_mode": {
    "name": "ipython",
    "version": 3
   },
   "file_extension": ".py",
   "mimetype": "text/x-python",
   "name": "python",
   "nbconvert_exporter": "python",
   "pygments_lexer": "ipython3",
   "version": "3.9.12"
  }
 },
 "nbformat": 4,
 "nbformat_minor": 5
}
