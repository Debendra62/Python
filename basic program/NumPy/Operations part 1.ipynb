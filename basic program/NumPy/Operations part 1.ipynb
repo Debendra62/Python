{
 "cells": [
  {
   "cell_type": "code",
   "execution_count": 34,
   "id": "0bf5e9d9",
   "metadata": {},
   "outputs": [],
   "source": [
    "import numpy as np"
   ]
  },
  {
   "cell_type": "markdown",
   "id": "53cca0d8",
   "metadata": {},
   "source": [
    "## Check the dimention of array( a.ndim )"
   ]
  },
  {
   "cell_type": "code",
   "execution_count": 35,
   "id": "050d7239",
   "metadata": {
    "scrolled": true
   },
   "outputs": [
    {
     "name": "stdout",
     "output_type": "stream",
     "text": [
      "2\n"
     ]
    }
   ],
   "source": [
    "a=np.array([(1,2,3),(2,3,4)])\n",
    "print(a.ndim)"
   ]
  },
  {
   "cell_type": "code",
   "execution_count": 36,
   "id": "275ba482",
   "metadata": {},
   "outputs": [
    {
     "data": {
      "text/plain": [
       "array([[1, 2, 3],\n",
       "       [2, 3, 4]])"
      ]
     },
     "execution_count": 36,
     "metadata": {},
     "output_type": "execute_result"
    }
   ],
   "source": [
    "a"
   ]
  },
  {
   "cell_type": "markdown",
   "id": "b9b0d4ff",
   "metadata": {},
   "source": [
    "### check itemsize and type of array"
   ]
  },
  {
   "cell_type": "code",
   "execution_count": 37,
   "id": "af06c800",
   "metadata": {},
   "outputs": [
    {
     "name": "stdout",
     "output_type": "stream",
     "text": [
      "4\n",
      "int32\n"
     ]
    }
   ],
   "source": [
    "print(a.itemsize)\n",
    "print(a.dtype)"
   ]
  },
  {
   "cell_type": "markdown",
   "id": "1e32958a",
   "metadata": {},
   "source": [
    "### No of elements in array ( a.size )"
   ]
  },
  {
   "cell_type": "code",
   "execution_count": 38,
   "id": "8c137569",
   "metadata": {},
   "outputs": [
    {
     "name": "stdout",
     "output_type": "stream",
     "text": [
      "6\n"
     ]
    }
   ],
   "source": [
    "print(a.size)"
   ]
  },
  {
   "cell_type": "markdown",
   "id": "6e6c2ef0",
   "metadata": {},
   "source": [
    "### Check shape of array or matrix( a.shape )"
   ]
  },
  {
   "cell_type": "code",
   "execution_count": 39,
   "id": "88b84b55",
   "metadata": {
    "scrolled": true
   },
   "outputs": [
    {
     "name": "stdout",
     "output_type": "stream",
     "text": [
      "(2, 3)\n"
     ]
    }
   ],
   "source": [
    "print(a.shape)"
   ]
  },
  {
   "cell_type": "markdown",
   "id": "64ff9623",
   "metadata": {},
   "source": [
    "## Reshape an matrix( Change row and column )"
   ]
  },
  {
   "cell_type": "code",
   "execution_count": 40,
   "id": "2b5ec549",
   "metadata": {},
   "outputs": [
    {
     "name": "stdout",
     "output_type": "stream",
     "text": [
      "[[1 2]\n",
      " [3 4]\n",
      " [3 4]\n",
      " [5 6]]\n"
     ]
    }
   ],
   "source": [
    "b=np.array([(1,2,3,4),(3,4,5,6)])\n",
    "b=b.reshape(4,2)\n",
    "print(b)"
   ]
  },
  {
   "cell_type": "markdown",
   "id": "2207098a",
   "metadata": {},
   "source": [
    "## To see the individual element of the array ( Slicing )"
   ]
  },
  {
   "cell_type": "code",
   "execution_count": 41,
   "id": "f3a646d1",
   "metadata": {},
   "outputs": [
    {
     "name": "stdout",
     "output_type": "stream",
     "text": [
      "7\n",
      "[2 6]\n"
     ]
    }
   ],
   "source": [
    "c=np.array([(1,2,3),(5,6,7)])\n",
    "print(c[1,2])\n",
    "print(c[0:,1])"
   ]
  },
  {
   "cell_type": "markdown",
   "id": "2d1a1e67",
   "metadata": {},
   "source": [
    "## to made a random number between any numbers (np.linspace(a,b,values))"
   ]
  },
  {
   "cell_type": "code",
   "execution_count": 42,
   "id": "4039a579",
   "metadata": {},
   "outputs": [
    {
     "name": "stdout",
     "output_type": "stream",
     "text": [
      "[1.  1.5 2.  2.5 3.  3.5 4. ]\n"
     ]
    }
   ],
   "source": [
    "d=np.linspace(1,4,7)\n",
    "print(d)"
   ]
  },
  {
   "cell_type": "markdown",
   "id": "1cf696e2",
   "metadata": {},
   "source": [
    "## Max ,min and sum of array "
   ]
  },
  {
   "cell_type": "code",
   "execution_count": 43,
   "id": "44f6222f",
   "metadata": {},
   "outputs": [],
   "source": [
    "e=np.array([1,2,3,4])"
   ]
  },
  {
   "cell_type": "code",
   "execution_count": 44,
   "id": "a91706f6",
   "metadata": {
    "scrolled": true
   },
   "outputs": [
    {
     "name": "stdout",
     "output_type": "stream",
     "text": [
      "4\n",
      "1\n",
      "10\n"
     ]
    }
   ],
   "source": [
    "print(e.max())\n",
    "print(e.min())\n",
    "print(e.sum())\n"
   ]
  },
  {
   "cell_type": "markdown",
   "id": "aa1c9119",
   "metadata": {},
   "source": [
    "## Axis concept (y axis=0  , x axis=1)"
   ]
  },
  {
   "cell_type": "code",
   "execution_count": 45,
   "id": "52485acb",
   "metadata": {},
   "outputs": [],
   "source": [
    "f=np.array([(4,5,6),(8,7,5)])"
   ]
  },
  {
   "cell_type": "code",
   "execution_count": 46,
   "id": "e4260c13",
   "metadata": {},
   "outputs": [
    {
     "name": "stdout",
     "output_type": "stream",
     "text": [
      "[12 12 11]\n"
     ]
    }
   ],
   "source": [
    "print(f.sum(axis=0))"
   ]
  },
  {
   "cell_type": "code",
   "execution_count": 47,
   "id": "45d8a3fc",
   "metadata": {},
   "outputs": [
    {
     "name": "stdout",
     "output_type": "stream",
     "text": [
      "[15 20]\n"
     ]
    }
   ],
   "source": [
    "print(f.sum(axis=1))"
   ]
  },
  {
   "cell_type": "markdown",
   "id": "3a9f7b08",
   "metadata": {},
   "source": [
    "# arange(start,end,step)"
   ]
  },
  {
   "cell_type": "code",
   "execution_count": 49,
   "id": "34be5dec",
   "metadata": {},
   "outputs": [
    {
     "name": "stdout",
     "output_type": "stream",
     "text": [
      "[1 3 5 7 9]\n"
     ]
    }
   ],
   "source": [
    "b=np.arange(1,10,2)\n",
    "print(b)"
   ]
  },
  {
   "cell_type": "markdown",
   "id": "6ebd2989",
   "metadata": {},
   "source": [
    "# linspace(start,end,totalvalues)"
   ]
  },
  {
   "cell_type": "code",
   "execution_count": 55,
   "id": "44bb91bf",
   "metadata": {},
   "outputs": [
    {
     "name": "stdout",
     "output_type": "stream",
     "text": [
      "[-10.          -9.7979798   -9.5959596   -9.39393939  -9.19191919\n",
      "  -8.98989899  -8.78787879  -8.58585859  -8.38383838  -8.18181818\n",
      "  -7.97979798  -7.77777778  -7.57575758  -7.37373737  -7.17171717\n",
      "  -6.96969697  -6.76767677  -6.56565657  -6.36363636  -6.16161616\n",
      "  -5.95959596  -5.75757576  -5.55555556  -5.35353535  -5.15151515\n",
      "  -4.94949495  -4.74747475  -4.54545455  -4.34343434  -4.14141414\n",
      "  -3.93939394  -3.73737374  -3.53535354  -3.33333333  -3.13131313\n",
      "  -2.92929293  -2.72727273  -2.52525253  -2.32323232  -2.12121212\n",
      "  -1.91919192  -1.71717172  -1.51515152  -1.31313131  -1.11111111\n",
      "  -0.90909091  -0.70707071  -0.50505051  -0.3030303   -0.1010101\n",
      "   0.1010101    0.3030303    0.50505051   0.70707071   0.90909091\n",
      "   1.11111111   1.31313131   1.51515152   1.71717172   1.91919192\n",
      "   2.12121212   2.32323232   2.52525253   2.72727273   2.92929293\n",
      "   3.13131313   3.33333333   3.53535354   3.73737374   3.93939394\n",
      "   4.14141414   4.34343434   4.54545455   4.74747475   4.94949495\n",
      "   5.15151515   5.35353535   5.55555556   5.75757576   5.95959596\n",
      "   6.16161616   6.36363636   6.56565657   6.76767677   6.96969697\n",
      "   7.17171717   7.37373737   7.57575758   7.77777778   7.97979798\n",
      "   8.18181818   8.38383838   8.58585859   8.78787879   8.98989899\n",
      "   9.19191919   9.39393939   9.5959596    9.7979798   10.        ]\n"
     ]
    }
   ],
   "source": [
    "c=np.linspace(-10,10,100)\n",
    "print(c)"
   ]
  },
  {
   "cell_type": "code",
   "execution_count": 60,
   "id": "32dac481",
   "metadata": {},
   "outputs": [
    {
     "name": "stdout",
     "output_type": "stream",
     "text": [
      "[4.53978687e-05 5.55606489e-05 6.79983174e-05 8.32200197e-05\n",
      " 1.01848815e-04 1.24647146e-04 1.52547986e-04 1.86692945e-04\n",
      " 2.28478855e-04 2.79614739e-04 3.42191434e-04 4.18766684e-04\n",
      " 5.12469082e-04 6.27124987e-04 7.67413430e-04 9.39055039e-04\n",
      " 1.14904229e-03 1.40591988e-03 1.72012560e-03 2.10440443e-03\n",
      " 2.57431039e-03 3.14881358e-03 3.85103236e-03 4.70911357e-03\n",
      " 5.75728612e-03 7.03711536e-03 8.59898661e-03 1.05038445e-02\n",
      " 1.28252101e-02 1.56514861e-02 1.90885420e-02 2.32625358e-02\n",
      " 2.83228820e-02 3.44451957e-02 4.18339400e-02 5.07243606e-02\n",
      " 6.13831074e-02 7.41067363e-02 8.92170603e-02 1.07052146e-01\n",
      " 1.27951705e-01 1.52235823e-01 1.80176593e-01 2.11963334e-01\n",
      " 2.47663801e-01 2.87185901e-01 3.30246430e-01 3.76354517e-01\n",
      " 4.24816868e-01 4.74768924e-01 5.25231076e-01 5.75183132e-01\n",
      " 6.23645483e-01 6.69753570e-01 7.12814099e-01 7.52336199e-01\n",
      " 7.88036666e-01 8.19823407e-01 8.47764177e-01 8.72048295e-01\n",
      " 8.92947854e-01 9.10782940e-01 9.25893264e-01 9.38616893e-01\n",
      " 9.49275639e-01 9.58166060e-01 9.65554804e-01 9.71677118e-01\n",
      " 9.76737464e-01 9.80911458e-01 9.84348514e-01 9.87174790e-01\n",
      " 9.89496155e-01 9.91401013e-01 9.92962885e-01 9.94242714e-01\n",
      " 9.95290886e-01 9.96148968e-01 9.96851186e-01 9.97425690e-01\n",
      " 9.97895596e-01 9.98279874e-01 9.98594080e-01 9.98850958e-01\n",
      " 9.99060945e-01 9.99232587e-01 9.99372875e-01 9.99487531e-01\n",
      " 9.99581233e-01 9.99657809e-01 9.99720385e-01 9.99771521e-01\n",
      " 9.99813307e-01 9.99847452e-01 9.99875353e-01 9.99898151e-01\n",
      " 9.99916780e-01 9.99932002e-01 9.99944439e-01 9.99954602e-01]\n"
     ]
    }
   ],
   "source": [
    "d=1/(1+np.exp(-c))\n",
    "print(d)"
   ]
  }
 ],
 "metadata": {
  "kernelspec": {
   "display_name": "Python 3 (ipykernel)",
   "language": "python",
   "name": "python3"
  },
  "language_info": {
   "codemirror_mode": {
    "name": "ipython",
    "version": 3
   },
   "file_extension": ".py",
   "mimetype": "text/x-python",
   "name": "python",
   "nbconvert_exporter": "python",
   "pygments_lexer": "ipython3",
   "version": "3.9.12"
  }
 },
 "nbformat": 4,
 "nbformat_minor": 5
}
