{
 "cells": [
  {
   "cell_type": "code",
   "execution_count": 1,
   "id": "0bf5e9d9",
   "metadata": {},
   "outputs": [],
   "source": [
    "import numpy as np"
   ]
  },
  {
   "cell_type": "markdown",
   "id": "53cca0d8",
   "metadata": {},
   "source": [
    "## Check the dimention of array( a.ndim )"
   ]
  },
  {
   "cell_type": "code",
   "execution_count": 2,
   "id": "050d7239",
   "metadata": {
    "scrolled": true
   },
   "outputs": [
    {
     "name": "stdout",
     "output_type": "stream",
     "text": [
      "2\n"
     ]
    }
   ],
   "source": [
    "a=np.array([(1,2,3),(2,3,4)])\n",
    "print(a.ndim)"
   ]
  },
  {
   "cell_type": "markdown",
   "id": "b9b0d4ff",
   "metadata": {},
   "source": [
    "### check itemsize and type of array"
   ]
  },
  {
   "cell_type": "code",
   "execution_count": 3,
   "id": "af06c800",
   "metadata": {},
   "outputs": [
    {
     "name": "stdout",
     "output_type": "stream",
     "text": [
      "4\n",
      "int32\n"
     ]
    }
   ],
   "source": [
    "print(a.itemsize)\n",
    "print(a.dtype)"
   ]
  },
  {
   "cell_type": "markdown",
   "id": "1e32958a",
   "metadata": {},
   "source": [
    "### No of elements in array ( a.size )"
   ]
  },
  {
   "cell_type": "code",
   "execution_count": 4,
   "id": "8c137569",
   "metadata": {},
   "outputs": [
    {
     "name": "stdout",
     "output_type": "stream",
     "text": [
      "6\n"
     ]
    }
   ],
   "source": [
    "print(a.size)"
   ]
  },
  {
   "cell_type": "markdown",
   "id": "6e6c2ef0",
   "metadata": {},
   "source": [
    "### Check shape of array or matrix( a.shape )"
   ]
  },
  {
   "cell_type": "code",
   "execution_count": 5,
   "id": "88b84b55",
   "metadata": {
    "scrolled": true
   },
   "outputs": [
    {
     "name": "stdout",
     "output_type": "stream",
     "text": [
      "(2, 3)\n"
     ]
    }
   ],
   "source": [
    "print(a.shape)"
   ]
  },
  {
   "cell_type": "markdown",
   "id": "64ff9623",
   "metadata": {},
   "source": [
    "## Reshape an matrix( Change row and column )"
   ]
  },
  {
   "cell_type": "code",
   "execution_count": 14,
   "id": "2b5ec549",
   "metadata": {},
   "outputs": [
    {
     "name": "stdout",
     "output_type": "stream",
     "text": [
      "[[1 2]\n",
      " [3 4]\n",
      " [3 4]\n",
      " [5 6]]\n"
     ]
    }
   ],
   "source": [
    "b=np.array([(1,2,3,4),(3,4,5,6)])\n",
    "b=b.reshape(4,2)\n",
    "print(b)"
   ]
  },
  {
   "cell_type": "markdown",
   "id": "2207098a",
   "metadata": {},
   "source": [
    "## To see the individual element of the array ( Slicing )"
   ]
  },
  {
   "cell_type": "code",
   "execution_count": 17,
   "id": "f3a646d1",
   "metadata": {},
   "outputs": [
    {
     "name": "stdout",
     "output_type": "stream",
     "text": [
      "7\n",
      "[2 6]\n"
     ]
    }
   ],
   "source": [
    "c=np.array([(1,2,3),(5,6,7)])\n",
    "print(c[1,2])\n",
    "print(c[0:,1])"
   ]
  },
  {
   "cell_type": "markdown",
   "id": "2d1a1e67",
   "metadata": {},
   "source": [
    "## to made a random number between any numbers (np.linspace(a,b,values))"
   ]
  },
  {
   "cell_type": "code",
   "execution_count": 20,
   "id": "4039a579",
   "metadata": {},
   "outputs": [
    {
     "name": "stdout",
     "output_type": "stream",
     "text": [
      "[1.  1.5 2.  2.5 3.  3.5 4. ]\n"
     ]
    }
   ],
   "source": [
    "d=np.linspace(1,4,7)\n",
    "print(d)"
   ]
  },
  {
   "cell_type": "markdown",
   "id": "1cf696e2",
   "metadata": {},
   "source": [
    "## Max ,min and sum of array "
   ]
  },
  {
   "cell_type": "code",
   "execution_count": 27,
   "id": "44f6222f",
   "metadata": {},
   "outputs": [],
   "source": [
    "e=np.array([1,2,3,4])"
   ]
  },
  {
   "cell_type": "code",
   "execution_count": 26,
   "id": "a91706f6",
   "metadata": {
    "scrolled": true
   },
   "outputs": [
    {
     "name": "stdout",
     "output_type": "stream",
     "text": [
      "4\n",
      "1\n",
      "10\n"
     ]
    }
   ],
   "source": [
    "print(e.max())\n",
    "print(e.min())\n",
    "print(e.sum())\n"
   ]
  },
  {
   "cell_type": "markdown",
   "id": "aa1c9119",
   "metadata": {},
   "source": [
    "## Axis concept (y axis=0  , x axis=1)"
   ]
  },
  {
   "cell_type": "code",
   "execution_count": 30,
   "id": "52485acb",
   "metadata": {},
   "outputs": [],
   "source": [
    "f=np.array([(4,5,6),(8,7,5)])"
   ]
  },
  {
   "cell_type": "code",
   "execution_count": 31,
   "id": "e4260c13",
   "metadata": {},
   "outputs": [
    {
     "name": "stdout",
     "output_type": "stream",
     "text": [
      "[12 12 11]\n"
     ]
    }
   ],
   "source": [
    "print(f.sum(axis=0))"
   ]
  },
  {
   "cell_type": "code",
   "execution_count": 34,
   "id": "45d8a3fc",
   "metadata": {},
   "outputs": [
    {
     "name": "stdout",
     "output_type": "stream",
     "text": [
      "[15 20]\n"
     ]
    }
   ],
   "source": [
    "print(f.sum(axis=1))"
   ]
  },
  {
   "cell_type": "code",
   "execution_count": null,
   "id": "0b467ea7",
   "metadata": {},
   "outputs": [],
   "source": []
  }
 ],
 "metadata": {
  "kernelspec": {
   "display_name": "Python 3 (ipykernel)",
   "language": "python",
   "name": "python3"
  },
  "language_info": {
   "codemirror_mode": {
    "name": "ipython",
    "version": 3
   },
   "file_extension": ".py",
   "mimetype": "text/x-python",
   "name": "python",
   "nbconvert_exporter": "python",
   "pygments_lexer": "ipython3",
   "version": "3.9.12"
  }
 },
 "nbformat": 4,
 "nbformat_minor": 5
}
