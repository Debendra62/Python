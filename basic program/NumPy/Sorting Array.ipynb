{
 "cells": [
  {
   "cell_type": "markdown",
   "id": "d125a2d9",
   "metadata": {},
   "source": [
    "# Sorting Arrays\n",
    "Sorting means putting elements in an ordered sequence.\n",
    "#### Ordered sequence is any sequence that has an order corresponding to elements, like numeric or alphabetical, ascending or descending."
   ]
  },
  {
   "cell_type": "code",
   "execution_count": 1,
   "id": "3a5836c1",
   "metadata": {},
   "outputs": [],
   "source": [
    "import numpy as np"
   ]
  },
  {
   "cell_type": "code",
   "execution_count": 7,
   "id": "1301bcaf",
   "metadata": {},
   "outputs": [
    {
     "name": "stdout",
     "output_type": "stream",
     "text": [
      "Before arranging array:  [  2  52 643  34  23   2]\n",
      "After arranging array:  [  2   2  23  34  52 643]\n"
     ]
    }
   ],
   "source": [
    "arr=np.array([2,52,643,34,23,2])\n",
    "\n",
    "print(\"Before arranging array: \",arr)\n",
    "\n",
    "print(\"After arranging array: \",np.sort(arr))"
   ]
  },
  {
   "cell_type": "code",
   "execution_count": null,
   "id": "bcb5b5b5",
   "metadata": {},
   "outputs": [],
   "source": []
  }
 ],
 "metadata": {
  "kernelspec": {
   "display_name": "Python 3 (ipykernel)",
   "language": "python",
   "name": "python3"
  },
  "language_info": {
   "codemirror_mode": {
    "name": "ipython",
    "version": 3
   },
   "file_extension": ".py",
   "mimetype": "text/x-python",
   "name": "python",
   "nbconvert_exporter": "python",
   "pygments_lexer": "ipython3",
   "version": "3.9.12"
  }
 },
 "nbformat": 4,
 "nbformat_minor": 5
}
