{
 "cells": [
  {
   "cell_type": "markdown",
   "id": "67dae23e",
   "metadata": {},
   "source": [
    "# Generate Random Number\n",
    "NumPy offers the random module to work with random numbers."
   ]
  },
  {
   "cell_type": "code",
   "execution_count": 3,
   "id": "b5afabeb",
   "metadata": {},
   "outputs": [],
   "source": [
    "from numpy import random"
   ]
  },
  {
   "cell_type": "code",
   "execution_count": 99,
   "id": "b5cdcf52",
   "metadata": {},
   "outputs": [
    {
     "name": "stdout",
     "output_type": "stream",
     "text": [
      "17\n"
     ]
    }
   ],
   "source": [
    "x = random.randint(100)\n",
    "\n",
    "print(x)"
   ]
  },
  {
   "cell_type": "markdown",
   "id": "48cb53a6",
   "metadata": {},
   "source": [
    "## Generate Random Float"
   ]
  },
  {
   "cell_type": "code",
   "execution_count": 96,
   "id": "38f03509",
   "metadata": {
    "scrolled": false
   },
   "outputs": [
    {
     "name": "stdout",
     "output_type": "stream",
     "text": [
      "[[0.94370942 0.82725901]\n",
      " [0.61046074 0.26291569]]\n"
     ]
    }
   ],
   "source": [
    "\n",
    "x = random.rand(2,2)\n",
    "\n",
    "print(x)"
   ]
  },
  {
   "cell_type": "markdown",
   "id": "0131ab2a",
   "metadata": {},
   "source": [
    "## Generate Random Array"
   ]
  },
  {
   "cell_type": "code",
   "execution_count": 104,
   "id": "368d2ffb",
   "metadata": {},
   "outputs": [
    {
     "name": "stdout",
     "output_type": "stream",
     "text": [
      "[19 99 92 74 22]\n"
     ]
    }
   ],
   "source": [
    "x=random.randint(100, size=(5))\n",
    "\n",
    "print(x)"
   ]
  },
  {
   "cell_type": "code",
   "execution_count": 106,
   "id": "30824906",
   "metadata": {},
   "outputs": [
    {
     "name": "stdout",
     "output_type": "stream",
     "text": [
      "[[50 98 19 66]\n",
      " [83 99 87 66]]\n"
     ]
    }
   ],
   "source": [
    "x = random.randint(100, size=(2, 4))\n",
    "\n",
    "print(x)"
   ]
  },
  {
   "cell_type": "markdown",
   "id": "50a0c877",
   "metadata": {},
   "source": [
    "## Generate Random Number From Array\n"
   ]
  },
  {
   "cell_type": "code",
   "execution_count": 107,
   "id": "453e0386",
   "metadata": {},
   "outputs": [
    {
     "name": "stdout",
     "output_type": "stream",
     "text": [
      "[[9 9 9 9 3]\n",
      " [5 9 7 5 3]\n",
      " [3 5 7 9 5]]\n"
     ]
    }
   ],
   "source": [
    "x = random.choice([3, 5, 7, 9], size=(3, 5))\n",
    "\n",
    "print(x)"
   ]
  },
  {
   "cell_type": "code",
   "execution_count": null,
   "id": "38700413",
   "metadata": {},
   "outputs": [],
   "source": []
  }
 ],
 "metadata": {
  "kernelspec": {
   "display_name": "Python 3 (ipykernel)",
   "language": "python",
   "name": "python3"
  },
  "language_info": {
   "codemirror_mode": {
    "name": "ipython",
    "version": 3
   },
   "file_extension": ".py",
   "mimetype": "text/x-python",
   "name": "python",
   "nbconvert_exporter": "python",
   "pygments_lexer": "ipython3",
   "version": "3.9.12"
  }
 },
 "nbformat": 4,
 "nbformat_minor": 5
}
