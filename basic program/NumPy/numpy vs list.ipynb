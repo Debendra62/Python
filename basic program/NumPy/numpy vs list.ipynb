{
 "cells": [
  {
   "cell_type": "code",
   "execution_count": 247,
   "id": "2dd96d58",
   "metadata": {},
   "outputs": [],
   "source": [
    "import numpy as np"
   ]
  },
  {
   "cell_type": "markdown",
   "id": "9250b6f5",
   "metadata": {},
   "source": [
    "# making one dimention array"
   ]
  },
  {
   "cell_type": "code",
   "execution_count": 248,
   "id": "235db82e",
   "metadata": {},
   "outputs": [
    {
     "name": "stdout",
     "output_type": "stream",
     "text": [
      "[1 2 3]\n"
     ]
    }
   ],
   "source": [
    "a=np.array([1,2,3])\n",
    "print(a)"
   ]
  },
  {
   "cell_type": "markdown",
   "id": "075e1a35",
   "metadata": {},
   "source": [
    "# making Two dimention array"
   ]
  },
  {
   "cell_type": "code",
   "execution_count": 249,
   "id": "c3954ad4",
   "metadata": {
    "scrolled": true
   },
   "outputs": [
    {
     "name": "stdout",
     "output_type": "stream",
     "text": [
      "[[1 2 3]\n",
      " [4 5 6]]\n"
     ]
    }
   ],
   "source": [
    "b=np.array([(1,2,3),(4,5,6)])\n",
    "print(b)"
   ]
  },
  {
   "cell_type": "markdown",
   "id": "05fb4bc9",
   "metadata": {},
   "source": [
    "# Why numpy is better than list\n",
    "### 1) Less memory"
   ]
  },
  {
   "cell_type": "code",
   "execution_count": 250,
   "id": "00e9b9b8",
   "metadata": {},
   "outputs": [],
   "source": [
    "import time \n",
    "import sys "
   ]
  },
  {
   "cell_type": "code",
   "execution_count": 251,
   "id": "19401ebc",
   "metadata": {},
   "outputs": [
    {
     "name": "stdout",
     "output_type": "stream",
     "text": [
      "28000\n"
     ]
    }
   ],
   "source": [
    "S=range(1000)\n",
    "print(sys.getsizeof(5)*len(S))"
   ]
  },
  {
   "cell_type": "code",
   "execution_count": 252,
   "id": "c17afe41",
   "metadata": {},
   "outputs": [
    {
     "name": "stdout",
     "output_type": "stream",
     "text": [
      "4000\n"
     ]
    }
   ],
   "source": [
    "D=np.arange(1000)\n",
    "print(D.size*D.itemsize)"
   ]
  },
  {
   "cell_type": "markdown",
   "id": "cf3f848b",
   "metadata": {},
   "source": [
    "### 2) Fast"
   ]
  },
  {
   "cell_type": "code",
   "execution_count": 253,
   "id": "224f84f8",
   "metadata": {},
   "outputs": [],
   "source": [
    "SIZE=10"
   ]
  },
  {
   "cell_type": "code",
   "execution_count": 254,
   "id": "ce33daba",
   "metadata": {},
   "outputs": [],
   "source": [
    "L1=list(range(SIZE))\n",
    "L2=list(range(SIZE))"
   ]
  },
  {
   "cell_type": "code",
   "execution_count": 255,
   "id": "b250f8c4",
   "metadata": {},
   "outputs": [
    {
     "name": "stdout",
     "output_type": "stream",
     "text": [
      "[0, 1, 2, 3, 4, 5, 6, 7, 8, 9]\n"
     ]
    }
   ],
   "source": [
    "print(L1)"
   ]
  },
  {
   "cell_type": "code",
   "execution_count": 256,
   "id": "ea80bf43",
   "metadata": {},
   "outputs": [],
   "source": [
    "A1=np.arange(SIZE)\n",
    "A2=np.arange(SIZE)"
   ]
  },
  {
   "cell_type": "code",
   "execution_count": 257,
   "id": "9b046828",
   "metadata": {},
   "outputs": [
    {
     "name": "stdout",
     "output_type": "stream",
     "text": [
      "[0 1 2 3 4 5 6 7 8 9]\n"
     ]
    }
   ],
   "source": [
    "print(A1)"
   ]
  },
  {
   "cell_type": "code",
   "execution_count": 258,
   "id": "5764b5c2",
   "metadata": {},
   "outputs": [],
   "source": [
    "start=time.time()\n",
    "result=[(x,y) for x,y in zip(L1,L2)]"
   ]
  },
  {
   "cell_type": "code",
   "execution_count": 259,
   "id": "36fdfd4e",
   "metadata": {},
   "outputs": [
    {
     "name": "stdout",
     "output_type": "stream",
     "text": [
      "15.167713165283203\n"
     ]
    }
   ],
   "source": [
    "print((time.time()-start)*1000)"
   ]
  },
  {
   "cell_type": "code",
   "execution_count": 260,
   "id": "c04e8c16",
   "metadata": {},
   "outputs": [],
   "source": [
    "start=time.time()\n",
    "result=A1+A2"
   ]
  },
  {
   "cell_type": "code",
   "execution_count": 261,
   "id": "4c426741",
   "metadata": {
    "scrolled": true
   },
   "outputs": [
    {
     "name": "stdout",
     "output_type": "stream",
     "text": [
      "14.931440353393555\n"
     ]
    }
   ],
   "source": [
    "print((time.time()-start)*1000)"
   ]
  },
  {
   "cell_type": "markdown",
   "id": "cbd08f56",
   "metadata": {},
   "source": [
    "### 3) Convenient"
   ]
  }
 ],
 "metadata": {
  "kernelspec": {
   "display_name": "Python 3 (ipykernel)",
   "language": "python",
   "name": "python3"
  },
  "language_info": {
   "codemirror_mode": {
    "name": "ipython",
    "version": 3
   },
   "file_extension": ".py",
   "mimetype": "text/x-python",
   "name": "python",
   "nbconvert_exporter": "python",
   "pygments_lexer": "ipython3",
   "version": "3.9.12"
  }
 },
 "nbformat": 4,
 "nbformat_minor": 5
}
