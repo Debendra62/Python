{
 "cells": [
  {
   "cell_type": "code",
   "execution_count": 2,
   "id": "abfe1c14",
   "metadata": {},
   "outputs": [],
   "source": [
    "import numpy as np"
   ]
  },
  {
   "cell_type": "markdown",
   "id": "872852c9",
   "metadata": {},
   "source": [
    "# square root and standard deviation ( np.sqrt(a) , np.std(a))"
   ]
  },
  {
   "cell_type": "code",
   "execution_count": 3,
   "id": "39b089f9",
   "metadata": {},
   "outputs": [],
   "source": [
    "a=np.array([(1,2,3),(3,4,5)])"
   ]
  },
  {
   "cell_type": "code",
   "execution_count": 4,
   "id": "fd2aefd8",
   "metadata": {},
   "outputs": [
    {
     "name": "stdout",
     "output_type": "stream",
     "text": [
      "[[1.         1.41421356 1.73205081]\n",
      " [1.73205081 2.         2.23606798]]\n"
     ]
    }
   ],
   "source": [
    "print(np.sqrt(a))"
   ]
  },
  {
   "cell_type": "code",
   "execution_count": 5,
   "id": "220131ac",
   "metadata": {},
   "outputs": [
    {
     "name": "stdout",
     "output_type": "stream",
     "text": [
      "1.2909944487358056\n"
     ]
    }
   ],
   "source": [
    "print(np.std(a))"
   ]
  },
  {
   "cell_type": "markdown",
   "id": "edce4459",
   "metadata": {},
   "source": [
    "## Addition ,substraction , multiplication and division"
   ]
  },
  {
   "cell_type": "code",
   "execution_count": 20,
   "id": "cc764aa1",
   "metadata": {},
   "outputs": [],
   "source": [
    "b=np.array([(1,2,3),(3,4,5)])\n",
    "c=np.array([(1,2,4),(7,4,5)])"
   ]
  },
  {
   "cell_type": "code",
   "execution_count": 21,
   "id": "4652bc9b",
   "metadata": {},
   "outputs": [
    {
     "name": "stdout",
     "output_type": "stream",
     "text": [
      "[[ 2  4  7]\n",
      " [10  8 10]]\n"
     ]
    }
   ],
   "source": [
    "print(b+c)"
   ]
  },
  {
   "cell_type": "code",
   "execution_count": 22,
   "id": "3733b1a3",
   "metadata": {},
   "outputs": [
    {
     "name": "stdout",
     "output_type": "stream",
     "text": [
      "[[ 0  0 -1]\n",
      " [-4  0  0]]\n"
     ]
    }
   ],
   "source": [
    "print(b-c)"
   ]
  },
  {
   "cell_type": "code",
   "execution_count": 23,
   "id": "9b03d914",
   "metadata": {
    "scrolled": true
   },
   "outputs": [
    {
     "name": "stdout",
     "output_type": "stream",
     "text": [
      "[[ 1  4 12]\n",
      " [21 16 25]]\n"
     ]
    }
   ],
   "source": [
    "print(b*c)"
   ]
  },
  {
   "cell_type": "code",
   "execution_count": 24,
   "id": "5f995c3a",
   "metadata": {
    "scrolled": true
   },
   "outputs": [
    {
     "name": "stdout",
     "output_type": "stream",
     "text": [
      "[[1.         1.         0.75      ]\n",
      " [0.42857143 1.         1.        ]]\n"
     ]
    }
   ],
   "source": [
    "print(b/c)"
   ]
  },
  {
   "cell_type": "markdown",
   "id": "1a1bc5e3",
   "metadata": {},
   "source": [
    "## Concatinate two array (np.vstack((a,b))"
   ]
  },
  {
   "cell_type": "code",
   "execution_count": 26,
   "id": "01be4288",
   "metadata": {},
   "outputs": [
    {
     "name": "stdout",
     "output_type": "stream",
     "text": [
      "[[1 2 3]\n",
      " [3 4 5]\n",
      " [1 2 3]\n",
      " [3 4 5]]\n"
     ]
    }
   ],
   "source": [
    "print(np.vstack((a,b)))"
   ]
  },
  {
   "cell_type": "code",
   "execution_count": 27,
   "id": "5714d58b",
   "metadata": {},
   "outputs": [
    {
     "name": "stdout",
     "output_type": "stream",
     "text": [
      "[[1 2 3 1 2 3]\n",
      " [3 4 5 3 4 5]]\n"
     ]
    }
   ],
   "source": [
    "print(np.hstack((a,b)))"
   ]
  },
  {
   "cell_type": "markdown",
   "id": "9e949e00",
   "metadata": {},
   "source": [
    "# To make all elements in a single ( row c.ravel())"
   ]
  },
  {
   "cell_type": "code",
   "execution_count": 33,
   "id": "e4426833",
   "metadata": {},
   "outputs": [
    {
     "name": "stdout",
     "output_type": "stream",
     "text": [
      "[1 2 4 7 4 5]\n"
     ]
    }
   ],
   "source": [
    "print(c.ravel())"
   ]
  }
 ],
 "metadata": {
  "kernelspec": {
   "display_name": "Python 3 (ipykernel)",
   "language": "python",
   "name": "python3"
  },
  "language_info": {
   "codemirror_mode": {
    "name": "ipython",
    "version": 3
   },
   "file_extension": ".py",
   "mimetype": "text/x-python",
   "name": "python",
   "nbconvert_exporter": "python",
   "pygments_lexer": "ipython3",
   "version": "3.9.12"
  }
 },
 "nbformat": 4,
 "nbformat_minor": 5
}
