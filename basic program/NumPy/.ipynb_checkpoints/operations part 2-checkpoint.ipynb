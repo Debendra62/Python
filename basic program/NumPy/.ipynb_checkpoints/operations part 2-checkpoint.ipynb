{
 "cells": [
  {
   "cell_type": "code",
   "execution_count": 2,
   "id": "29169e2c",
   "metadata": {},
   "outputs": [],
   "source": [
    "import numpy as np"
   ]
  },
  {
   "cell_type": "markdown",
   "id": "5bec487c",
   "metadata": {},
   "source": [
    "# square root and standard deviation ( np.sqrt(a) , np.std(a))"
   ]
  },
  {
   "cell_type": "code",
   "execution_count": 3,
   "id": "28d923f5",
   "metadata": {},
   "outputs": [],
   "source": [
    "a=np.array([(1,2,3),(3,4,5)])"
   ]
  },
  {
   "cell_type": "code",
   "execution_count": 4,
   "id": "48196390",
   "metadata": {},
   "outputs": [
    {
     "name": "stdout",
     "output_type": "stream",
     "text": [
      "[[1.         1.41421356 1.73205081]\n",
      " [1.73205081 2.         2.23606798]]\n"
     ]
    }
   ],
   "source": [
    "print(np.sqrt(a))"
   ]
  },
  {
   "cell_type": "code",
   "execution_count": 5,
   "id": "aad14e32",
   "metadata": {},
   "outputs": [
    {
     "name": "stdout",
     "output_type": "stream",
     "text": [
      "1.2909944487358056\n"
     ]
    }
   ],
   "source": [
    "print(np.std(a))"
   ]
  },
  {
   "cell_type": "markdown",
   "id": "42c614f2",
   "metadata": {},
   "source": [
    "## Addition ,substraction , multiplication and division"
   ]
  },
  {
   "cell_type": "code",
   "execution_count": 20,
   "id": "a53e3a48",
   "metadata": {},
   "outputs": [],
   "source": [
    "b=np.array([(1,2,3),(3,4,5)])\n",
    "c=np.array([(1,2,4),(7,4,5)])"
   ]
  },
  {
   "cell_type": "code",
   "execution_count": 21,
   "id": "d6f40e22",
   "metadata": {},
   "outputs": [
    {
     "name": "stdout",
     "output_type": "stream",
     "text": [
      "[[ 2  4  7]\n",
      " [10  8 10]]\n"
     ]
    }
   ],
   "source": [
    "print(b+c)"
   ]
  },
  {
   "cell_type": "code",
   "execution_count": 22,
   "id": "0bd609c2",
   "metadata": {},
   "outputs": [
    {
     "name": "stdout",
     "output_type": "stream",
     "text": [
      "[[ 0  0 -1]\n",
      " [-4  0  0]]\n"
     ]
    }
   ],
   "source": [
    "print(b-c)"
   ]
  },
  {
   "cell_type": "code",
   "execution_count": 23,
   "id": "7fbc5a3c",
   "metadata": {
    "scrolled": true
   },
   "outputs": [
    {
     "name": "stdout",
     "output_type": "stream",
     "text": [
      "[[ 1  4 12]\n",
      " [21 16 25]]\n"
     ]
    }
   ],
   "source": [
    "print(b*c)"
   ]
  },
  {
   "cell_type": "code",
   "execution_count": 24,
   "id": "96064b77",
   "metadata": {
    "scrolled": true
   },
   "outputs": [
    {
     "name": "stdout",
     "output_type": "stream",
     "text": [
      "[[1.         1.         0.75      ]\n",
      " [0.42857143 1.         1.        ]]\n"
     ]
    }
   ],
   "source": [
    "print(b/c)"
   ]
  },
  {
   "cell_type": "markdown",
   "id": "a2076607",
   "metadata": {},
   "source": [
    "## Concatinate two array (np.vstack((a,b))"
   ]
  },
  {
   "cell_type": "code",
   "execution_count": 26,
   "id": "b84433ac",
   "metadata": {},
   "outputs": [
    {
     "name": "stdout",
     "output_type": "stream",
     "text": [
      "[[1 2 3]\n",
      " [3 4 5]\n",
      " [1 2 3]\n",
      " [3 4 5]]\n"
     ]
    }
   ],
   "source": [
    "print(np.vstack((a,b)))"
   ]
  },
  {
   "cell_type": "code",
   "execution_count": 27,
   "id": "e6154cc5",
   "metadata": {},
   "outputs": [
    {
     "name": "stdout",
     "output_type": "stream",
     "text": [
      "[[1 2 3 1 2 3]\n",
      " [3 4 5 3 4 5]]\n"
     ]
    }
   ],
   "source": [
    "print(np.hstack((a,b)))"
   ]
  },
  {
   "cell_type": "code",
   "execution_count": null,
   "id": "92fa63c6",
   "metadata": {},
   "outputs": [],
   "source": []
  },
  {
   "cell_type": "code",
   "execution_count": 31,
   "id": "9cbef40e",
   "metadata": {},
   "outputs": [
    {
     "ename": "AttributeError",
     "evalue": "'numpy.ndarray' object has no attribute 'revel'",
     "output_type": "error",
     "traceback": [
      "\u001b[1;31m---------------------------------------------------------------------------\u001b[0m",
      "\u001b[1;31mAttributeError\u001b[0m                            Traceback (most recent call last)",
      "Input \u001b[1;32mIn [31]\u001b[0m, in \u001b[0;36m<cell line: 1>\u001b[1;34m()\u001b[0m\n\u001b[1;32m----> 1\u001b[0m \u001b[38;5;28mprint\u001b[39m(\u001b[43mc\u001b[49m\u001b[38;5;241;43m.\u001b[39;49m\u001b[43mrevel\u001b[49m())\n",
      "\u001b[1;31mAttributeError\u001b[0m: 'numpy.ndarray' object has no attribute 'revel'"
     ]
    }
   ],
   "source": [
    "print(c.revel())"
   ]
  }
 ],
 "metadata": {
  "kernelspec": {
   "display_name": "Python 3 (ipykernel)",
   "language": "python",
   "name": "python3"
  },
  "language_info": {
   "codemirror_mode": {
    "name": "ipython",
    "version": 3
   },
   "file_extension": ".py",
   "mimetype": "text/x-python",
   "name": "python",
   "nbconvert_exporter": "python",
   "pygments_lexer": "ipython3",
   "version": "3.9.12"
  }
 },
 "nbformat": 4,
 "nbformat_minor": 5
}
