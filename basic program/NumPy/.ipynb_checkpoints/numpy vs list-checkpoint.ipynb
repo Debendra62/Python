{
 "cells": [
  {
   "cell_type": "code",
   "execution_count": 231,
   "id": "5a2a33d1",
   "metadata": {},
   "outputs": [],
   "source": [
    "import numpy as np"
   ]
  },
  {
   "cell_type": "markdown",
   "id": "1eb1563a",
   "metadata": {},
   "source": [
    "# making one dimention array"
   ]
  },
  {
   "cell_type": "code",
   "execution_count": 232,
   "id": "0c4c0f45",
   "metadata": {},
   "outputs": [
    {
     "name": "stdout",
     "output_type": "stream",
     "text": [
      "[1 2 3]\n"
     ]
    }
   ],
   "source": [
    "a=np.array([1,2,3])\n",
    "print(a)"
   ]
  },
  {
   "cell_type": "markdown",
   "id": "25f02c9e",
   "metadata": {},
   "source": [
    "# making Two dimention array"
   ]
  },
  {
   "cell_type": "code",
   "execution_count": 233,
   "id": "55bd9a43",
   "metadata": {
    "scrolled": true
   },
   "outputs": [
    {
     "name": "stdout",
     "output_type": "stream",
     "text": [
      "[[1 2 3]\n",
      " [4 5 6]]\n"
     ]
    }
   ],
   "source": [
    "b=np.array([(1,2,3),(4,5,6)])\n",
    "print(b)"
   ]
  },
  {
   "cell_type": "markdown",
   "id": "033c4fbd",
   "metadata": {},
   "source": [
    "# Why numpy is better than list\n",
    "### 1) Less memory"
   ]
  },
  {
   "cell_type": "code",
   "execution_count": 234,
   "id": "11607b69",
   "metadata": {},
   "outputs": [],
   "source": [
    "import time \n",
    "import sys "
   ]
  },
  {
   "cell_type": "code",
   "execution_count": 235,
   "id": "c66be773",
   "metadata": {},
   "outputs": [
    {
     "name": "stdout",
     "output_type": "stream",
     "text": [
      "28000\n"
     ]
    }
   ],
   "source": [
    "S=range(1000)\n",
    "print(sys.getsizeof(5)*len(S))"
   ]
  },
  {
   "cell_type": "code",
   "execution_count": 236,
   "id": "b93541a0",
   "metadata": {},
   "outputs": [
    {
     "name": "stdout",
     "output_type": "stream",
     "text": [
      "4000\n"
     ]
    }
   ],
   "source": [
    "D=np.arange(1000)\n",
    "print(D.size*D.itemsize)"
   ]
  },
  {
   "cell_type": "markdown",
   "id": "f19eaebf",
   "metadata": {},
   "source": [
    "### 2) Fast"
   ]
  },
  {
   "cell_type": "code",
   "execution_count": 237,
   "id": "35a1d72d",
   "metadata": {},
   "outputs": [],
   "source": [
    "SIZE=10"
   ]
  },
  {
   "cell_type": "code",
   "execution_count": 238,
   "id": "5516bae9",
   "metadata": {},
   "outputs": [],
   "source": [
    "L1=list(range(SIZE))\n",
    "L2=list(range(SIZE))"
   ]
  },
  {
   "cell_type": "code",
   "execution_count": 239,
   "id": "11595348",
   "metadata": {},
   "outputs": [
    {
     "name": "stdout",
     "output_type": "stream",
     "text": [
      "[0, 1, 2, 3, 4, 5, 6, 7, 8, 9, 10, 11, 12, 13, 14, 15, 16, 17, 18, 19, 20, 21, 22, 23, 24, 25, 26, 27, 28, 29, 30, 31, 32, 33, 34, 35, 36, 37, 38, 39, 40, 41, 42, 43, 44, 45, 46, 47, 48, 49, 50, 51, 52, 53, 54, 55, 56, 57, 58, 59, 60, 61, 62, 63, 64, 65, 66, 67, 68, 69, 70, 71, 72, 73, 74, 75, 76, 77, 78, 79, 80, 81, 82, 83, 84, 85, 86, 87, 88, 89, 90, 91, 92, 93, 94, 95, 96, 97, 98, 99]\n"
     ]
    }
   ],
   "source": [
    "print(L1)"
   ]
  },
  {
   "cell_type": "code",
   "execution_count": 245,
   "id": "b85b6d7b",
   "metadata": {},
   "outputs": [],
   "source": [
    "A1=np.arange(SIZE)\n",
    "A2=np.arange(SIZE)"
   ]
  },
  {
   "cell_type": "code",
   "execution_count": 246,
   "id": "70020850",
   "metadata": {},
   "outputs": [
    {
     "name": "stdout",
     "output_type": "stream",
     "text": [
      "[ 0  1  2  3  4  5  6  7  8  9 10 11 12 13 14 15 16 17 18 19 20 21 22 23\n",
      " 24 25 26 27 28 29 30 31 32 33 34 35 36 37 38 39 40 41 42 43 44 45 46 47\n",
      " 48 49 50 51 52 53 54 55 56 57 58 59 60 61 62 63 64 65 66 67 68 69 70 71\n",
      " 72 73 74 75 76 77 78 79 80 81 82 83 84 85 86 87 88 89 90 91 92 93 94 95\n",
      " 96 97 98 99]\n"
     ]
    }
   ],
   "source": [
    "print(A1)"
   ]
  },
  {
   "cell_type": "code",
   "execution_count": 241,
   "id": "ed704b10",
   "metadata": {},
   "outputs": [],
   "source": [
    "start=time.time()\n",
    "result=[(x,y) for x,y in zip(L1,L2)]"
   ]
  },
  {
   "cell_type": "code",
   "execution_count": 242,
   "id": "629cf4a0",
   "metadata": {},
   "outputs": [
    {
     "name": "stdout",
     "output_type": "stream",
     "text": [
      "16.143083572387695\n"
     ]
    }
   ],
   "source": [
    "print((time.time()-start)*1000)"
   ]
  },
  {
   "cell_type": "code",
   "execution_count": 243,
   "id": "e72b2c90",
   "metadata": {},
   "outputs": [],
   "source": [
    "start=time.time()\n",
    "result=A1+A2"
   ]
  },
  {
   "cell_type": "code",
   "execution_count": 244,
   "id": "edffe698",
   "metadata": {
    "scrolled": true
   },
   "outputs": [
    {
     "name": "stdout",
     "output_type": "stream",
     "text": [
      "14.981269836425781\n"
     ]
    }
   ],
   "source": [
    "print((time.time()-start)*1000)"
   ]
  },
  {
   "cell_type": "markdown",
   "id": "d4965c53",
   "metadata": {},
   "source": [
    "### 3) Convenient"
   ]
  }
 ],
 "metadata": {
  "kernelspec": {
   "display_name": "Python 3 (ipykernel)",
   "language": "python",
   "name": "python3"
  },
  "language_info": {
   "codemirror_mode": {
    "name": "ipython",
    "version": 3
   },
   "file_extension": ".py",
   "mimetype": "text/x-python",
   "name": "python",
   "nbconvert_exporter": "python",
   "pygments_lexer": "ipython3",
   "version": "3.9.12"
  }
 },
 "nbformat": 4,
 "nbformat_minor": 5
}
