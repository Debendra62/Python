{
 "cells": [
  {
   "cell_type": "markdown",
   "id": "f4900618",
   "metadata": {},
   "source": [
    "# Initializing Different Types of Arrays"
   ]
  },
  {
   "cell_type": "code",
   "execution_count": 2,
   "id": "430adb3c",
   "metadata": {},
   "outputs": [],
   "source": [
    "import numpy as np"
   ]
  },
  {
   "cell_type": "markdown",
   "id": "83002028",
   "metadata": {},
   "source": [
    "### for making 0 matrix\n"
   ]
  },
  {
   "cell_type": "code",
   "execution_count": 6,
   "id": "450137ad",
   "metadata": {
    "scrolled": true
   },
   "outputs": [
    {
     "data": {
      "text/plain": [
       "array([[0., 0., 0.],\n",
       "       [0., 0., 0.],\n",
       "       [0., 0., 0.],\n",
       "       [0., 0., 0.],\n",
       "       [0., 0., 0.]])"
      ]
     },
     "execution_count": 6,
     "metadata": {},
     "output_type": "execute_result"
    }
   ],
   "source": [
    "np.zeros((5,3))"
   ]
  },
  {
   "cell_type": "markdown",
   "id": "0a92395d",
   "metadata": {},
   "source": [
    "### For making 1 matrix"
   ]
  },
  {
   "cell_type": "code",
   "execution_count": 9,
   "id": "0edb174b",
   "metadata": {
    "scrolled": true
   },
   "outputs": [
    {
     "data": {
      "text/plain": [
       "array([[1, 1, 1, 1, 1],\n",
       "       [1, 1, 1, 1, 1],\n",
       "       [1, 1, 1, 1, 1]])"
      ]
     },
     "execution_count": 9,
     "metadata": {},
     "output_type": "execute_result"
    }
   ],
   "source": [
    "np.ones((3,5), dtype='int32')"
   ]
  },
  {
   "cell_type": "markdown",
   "id": "89fde749",
   "metadata": {},
   "source": [
    "### For making other number matrix"
   ]
  },
  {
   "cell_type": "code",
   "execution_count": 11,
   "id": "9a98d477",
   "metadata": {},
   "outputs": [
    {
     "data": {
      "text/plain": [
       "array([[99, 99, 99, 99, 99],\n",
       "       [99, 99, 99, 99, 99]])"
      ]
     },
     "execution_count": 11,
     "metadata": {},
     "output_type": "execute_result"
    }
   ],
   "source": [
    "np.full((2,5),99)"
   ]
  },
  {
   "cell_type": "code",
   "execution_count": 19,
   "id": "72122230",
   "metadata": {},
   "outputs": [],
   "source": [
    "a=([1,2,3])"
   ]
  },
  {
   "cell_type": "code",
   "execution_count": 21,
   "id": "e02c7468",
   "metadata": {},
   "outputs": [
    {
     "data": {
      "text/plain": [
       "array([4, 4, 4])"
      ]
     },
     "execution_count": 21,
     "metadata": {},
     "output_type": "execute_result"
    }
   ],
   "source": [
    "np.full_like(a,4)"
   ]
  },
  {
   "cell_type": "markdown",
   "id": "65bf731a",
   "metadata": {},
   "source": [
    "### For random matrix"
   ]
  },
  {
   "cell_type": "code",
   "execution_count": 22,
   "id": "95bb177b",
   "metadata": {},
   "outputs": [
    {
     "data": {
      "text/plain": [
       "array([[0.01540409, 0.42289281, 0.09742938],\n",
       "       [0.3965783 , 0.12723002, 0.51750625],\n",
       "       [0.73702521, 0.87049929, 0.45935221],\n",
       "       [0.0399338 , 0.05972014, 0.44057148]])"
      ]
     },
     "execution_count": 22,
     "metadata": {},
     "output_type": "execute_result"
    }
   ],
   "source": [
    "np.random.rand(4,3)"
   ]
  }
 ],
 "metadata": {
  "kernelspec": {
   "display_name": "Python 3 (ipykernel)",
   "language": "python",
   "name": "python3"
  },
  "language_info": {
   "codemirror_mode": {
    "name": "ipython",
    "version": 3
   },
   "file_extension": ".py",
   "mimetype": "text/x-python",
   "name": "python",
   "nbconvert_exporter": "python",
   "pygments_lexer": "ipython3",
   "version": "3.9.12"
  }
 },
 "nbformat": 4,
 "nbformat_minor": 5
}
