{
 "cells": [
  {
   "cell_type": "markdown",
   "id": "f52c72d2",
   "metadata": {},
   "source": [
    "# FLIP (The result will display in the form of reverse order)"
   ]
  },
  {
   "cell_type": "code",
   "execution_count": 3,
   "id": "118cf04e",
   "metadata": {},
   "outputs": [],
   "source": [
    "import numpy as np"
   ]
  },
  {
   "cell_type": "code",
   "execution_count": 5,
   "id": "5307e952",
   "metadata": {},
   "outputs": [
    {
     "name": "stdout",
     "output_type": "stream",
     "text": [
      "[1 2 6 3 8 9]\n"
     ]
    }
   ],
   "source": [
    "arr= np.array([9, 8, 3, 6, 2, 1])\n",
    "result = np.flip(arr)\n",
    "\n",
    "print(result)"
   ]
  },
  {
   "cell_type": "markdown",
   "id": "5f3e5e35",
   "metadata": {},
   "source": [
    "## Flipud"
   ]
  },
  {
   "cell_type": "code",
   "execution_count": 6,
   "id": "261a2775",
   "metadata": {},
   "outputs": [
    {
     "name": "stdout",
     "output_type": "stream",
     "text": [
      "Reverse array [1 2 6 3 8 9]\n"
     ]
    }
   ],
   "source": [
    "arr= np.array([9, 8, 3, 6, 2, 1])\n",
    "result = np.flipud(arr)\n",
    "\n",
    "print(\"Reverse array\",(result))"
   ]
  },
  {
   "cell_type": "markdown",
   "id": "1fc3828b",
   "metadata": {},
   "source": [
    "## Fliplr"
   ]
  },
  {
   "cell_type": "code",
   "execution_count": 9,
   "id": "9293cff9",
   "metadata": {},
   "outputs": [
    {
     "name": "stdout",
     "output_type": "stream",
     "text": [
      "Reverse array [[1 2 7 6 5 3]\n",
      " [9 8 7 6 5 2]]\n"
     ]
    }
   ],
   "source": [
    "arr= np.array([[3, 5, 6, 7, 2, 1],\n",
    "               [2,5,6,7,8,9]])\n",
    "result = np.fliplr(arr)\n",
    "\n",
    "print(\"Reverse array\",(result))"
   ]
  }
 ],
 "metadata": {
  "kernelspec": {
   "display_name": "Python 3 (ipykernel)",
   "language": "python",
   "name": "python3"
  },
  "language_info": {
   "codemirror_mode": {
    "name": "ipython",
    "version": 3
   },
   "file_extension": ".py",
   "mimetype": "text/x-python",
   "name": "python",
   "nbconvert_exporter": "python",
   "pygments_lexer": "ipython3",
   "version": "3.9.12"
  }
 },
 "nbformat": 4,
 "nbformat_minor": 5
}
